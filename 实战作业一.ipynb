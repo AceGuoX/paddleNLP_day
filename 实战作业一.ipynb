{
 "cells": [
  {
   "cell_type": "markdown",
   "metadata": {
    "collapsed": false
   },
   "source": [
    "# 作业\n",
    "\n",
    "更换TokenEmbedding预训练模型，使用VisualDL查看相应的TokenEmbedding可视化效果，并尝试更换后的TokenEmbedding计算句对语义相似度。\n",
    "本作业详细步骤，可参考[Day01作业教程](https://github.com/PaddlePaddle/PaddleNLP/tree/develop/education/day01.md)，记得star PaddleNLP，收藏起来，随时跟进最新功能噢。\n",
    "\n",
    "**作业结果提交**：\n",
    "1. 截图提交可视化结果（图片注明作业可视化结果）。\n",
    "2. 通篇执行每段代码，并保留执行结果。"
   ]
  },
  {
   "cell_type": "markdown",
   "metadata": {
    "collapsed": false
   },
   "source": [
    "### 可视化图一\n",
    "![](https://ai-studio-static-online.cdn.bcebos.com/62de2e80cca248ea93078d6451c6d092bac336277b4644d683fc160452abe790)\n",
    "\n",
    "### 可视化图二\n",
    "![](https://ai-studio-static-online.cdn.bcebos.com/b6a40d1c67084951989a3d2f76bf64df758dd67a61f1472baa24a07ce4135a29)\n",
    "\n"
   ]
  },
  {
   "cell_type": "markdown",
   "metadata": {
    "collapsed": false
   },
   "source": [
    "# PaddleNLP词向量应用展示\n",
    "\n",
    "6.7日NLP直播打卡课开始啦\n",
    "\n",
    "**[直播链接请戳这里，每晚20:00-21:30👈](http://live.bilibili.com/21689802)**\n",
    "\n",
    "**[课程地址请戳这里👈](https://aistudio.baidu.com/aistudio/course/introduce/24177)**\n",
    "\n",
    "欢迎来课程**QQ群**（群号:618354318）交流吧~~\n",
    "\n",
    "\n",
    "词向量（Word embedding），即把词语表示成实数向量。“好”的词向量能体现词语直接的相近关系。词向量已经被证明可以提高NLP任务的性能，例如语法分析和情感分析。\n",
    "\n",
    "<p align=\"center\">\n",
    "<img src=\"https://ai-studio-static-online.cdn.bcebos.com/54878855b1df42f9ab50b280d76906b1e0175f280b0f4a2193a542c72634a9bf\" width=\"60%\" height=\"50%\"> <br />\n",
    "</p>\n",
    "<br><center>图1：词向量示意图</center></br>\n",
    "\n",
    "PaddleNLP已预置多个公开的预训练Embedding，您可以通过使用`paddlenlp.embeddings.TokenEmbedding`接口加载预训练Embedding，从而提升训练效果。本篇教程将依次介绍`paddlenlp.embeddings.TokenEmbedding`的初始化和文本表示效果，并通过文本分类训练的例子展示其对训练提升的效果。"
   ]
  },
  {
   "cell_type": "code",
   "execution_count": 30,
   "metadata": {
    "collapsed": false
   },
   "outputs": [
    {
     "name": "stdout",
     "output_type": "stream",
     "text": [
      "Requirement already up-to-date: paddlenlp in /opt/conda/envs/python35-paddle120-env/lib/python3.7/site-packages (2.0.2)\n",
      "Requirement already satisfied, skipping upgrade: visualdl in /opt/conda/envs/python35-paddle120-env/lib/python3.7/site-packages (from paddlenlp) (2.2.0)\n",
      "Requirement already satisfied, skipping upgrade: seqeval in /opt/conda/envs/python35-paddle120-env/lib/python3.7/site-packages (from paddlenlp) (1.2.2)\n",
      "Requirement already satisfied, skipping upgrade: colorlog in /opt/conda/envs/python35-paddle120-env/lib/python3.7/site-packages (from paddlenlp) (4.1.0)\n",
      "Requirement already satisfied, skipping upgrade: colorama in /opt/conda/envs/python35-paddle120-env/lib/python3.7/site-packages (from paddlenlp) (0.4.4)\n",
      "Requirement already satisfied, skipping upgrade: h5py in /opt/conda/envs/python35-paddle120-env/lib/python3.7/site-packages (from paddlenlp) (2.9.0)\n",
      "Requirement already satisfied, skipping upgrade: jieba in /opt/conda/envs/python35-paddle120-env/lib/python3.7/site-packages (from paddlenlp) (0.42.1)\n",
      "Requirement already satisfied, skipping upgrade: multiprocess in /opt/conda/envs/python35-paddle120-env/lib/python3.7/site-packages (from paddlenlp) (0.70.11.1)\n",
      "Requirement already satisfied, skipping upgrade: shellcheck-py in /opt/conda/envs/python35-paddle120-env/lib/python3.7/site-packages (from visualdl->paddlenlp) (0.7.1.1)\n",
      "Requirement already satisfied, skipping upgrade: bce-python-sdk in /opt/conda/envs/python35-paddle120-env/lib/python3.7/site-packages (from visualdl->paddlenlp) (0.8.53)\n",
      "Requirement already satisfied, skipping upgrade: flask>=1.1.1 in /opt/conda/envs/python35-paddle120-env/lib/python3.7/site-packages (from visualdl->paddlenlp) (1.1.1)\n",
      "Requirement already satisfied, skipping upgrade: protobuf>=3.11.0 in /opt/conda/envs/python35-paddle120-env/lib/python3.7/site-packages (from visualdl->paddlenlp) (3.14.0)\n",
      "Requirement already satisfied, skipping upgrade: requests in /opt/conda/envs/python35-paddle120-env/lib/python3.7/site-packages (from visualdl->paddlenlp) (2.22.0)\n",
      "Requirement already satisfied, skipping upgrade: six>=1.14.0 in /opt/conda/envs/python35-paddle120-env/lib/python3.7/site-packages (from visualdl->paddlenlp) (1.15.0)\n",
      "Requirement already satisfied, skipping upgrade: Pillow>=7.0.0 in /opt/conda/envs/python35-paddle120-env/lib/python3.7/site-packages (from visualdl->paddlenlp) (7.1.2)\n",
      "Requirement already satisfied, skipping upgrade: pandas in /opt/conda/envs/python35-paddle120-env/lib/python3.7/site-packages (from visualdl->paddlenlp) (1.1.5)\n",
      "Requirement already satisfied, skipping upgrade: matplotlib in /opt/conda/envs/python35-paddle120-env/lib/python3.7/site-packages (from visualdl->paddlenlp) (2.2.3)\n",
      "Requirement already satisfied, skipping upgrade: pre-commit in /opt/conda/envs/python35-paddle120-env/lib/python3.7/site-packages (from visualdl->paddlenlp) (1.21.0)\n",
      "Requirement already satisfied, skipping upgrade: Flask-Babel>=1.0.0 in /opt/conda/envs/python35-paddle120-env/lib/python3.7/site-packages (from visualdl->paddlenlp) (1.0.0)\n",
      "Requirement already satisfied, skipping upgrade: numpy in /opt/conda/envs/python35-paddle120-env/lib/python3.7/site-packages (from visualdl->paddlenlp) (1.20.3)\n",
      "Requirement already satisfied, skipping upgrade: flake8>=3.7.9 in /opt/conda/envs/python35-paddle120-env/lib/python3.7/site-packages (from visualdl->paddlenlp) (3.8.2)\n",
      "Requirement already satisfied, skipping upgrade: scikit-learn>=0.21.3 in /opt/conda/envs/python35-paddle120-env/lib/python3.7/site-packages (from seqeval->paddlenlp) (0.24.2)\n",
      "Requirement already satisfied, skipping upgrade: dill>=0.3.3 in /opt/conda/envs/python35-paddle120-env/lib/python3.7/site-packages (from multiprocess->paddlenlp) (0.3.3)\n",
      "Requirement already satisfied, skipping upgrade: future>=0.6.0 in /opt/conda/envs/python35-paddle120-env/lib/python3.7/site-packages (from bce-python-sdk->visualdl->paddlenlp) (0.18.0)\n",
      "Requirement already satisfied, skipping upgrade: pycryptodome>=3.8.0 in /opt/conda/envs/python35-paddle120-env/lib/python3.7/site-packages (from bce-python-sdk->visualdl->paddlenlp) (3.9.9)\n",
      "Requirement already satisfied, skipping upgrade: Jinja2>=2.10.1 in /opt/conda/envs/python35-paddle120-env/lib/python3.7/site-packages (from flask>=1.1.1->visualdl->paddlenlp) (2.10.1)\n",
      "Requirement already satisfied, skipping upgrade: click>=5.1 in /opt/conda/envs/python35-paddle120-env/lib/python3.7/site-packages (from flask>=1.1.1->visualdl->paddlenlp) (7.0)\n",
      "Requirement already satisfied, skipping upgrade: itsdangerous>=0.24 in /opt/conda/envs/python35-paddle120-env/lib/python3.7/site-packages (from flask>=1.1.1->visualdl->paddlenlp) (1.1.0)\n",
      "Requirement already satisfied, skipping upgrade: Werkzeug>=0.15 in /opt/conda/envs/python35-paddle120-env/lib/python3.7/site-packages (from flask>=1.1.1->visualdl->paddlenlp) (0.16.0)\n",
      "Requirement already satisfied, skipping upgrade: urllib3!=1.25.0,!=1.25.1,<1.26,>=1.21.1 in /opt/conda/envs/python35-paddle120-env/lib/python3.7/site-packages (from requests->visualdl->paddlenlp) (1.25.6)\n",
      "Requirement already satisfied, skipping upgrade: certifi>=2017.4.17 in /opt/conda/envs/python35-paddle120-env/lib/python3.7/site-packages (from requests->visualdl->paddlenlp) (2019.9.11)\n",
      "Requirement already satisfied, skipping upgrade: chardet<3.1.0,>=3.0.2 in /opt/conda/envs/python35-paddle120-env/lib/python3.7/site-packages (from requests->visualdl->paddlenlp) (3.0.4)\n",
      "Requirement already satisfied, skipping upgrade: idna<2.9,>=2.5 in /opt/conda/envs/python35-paddle120-env/lib/python3.7/site-packages (from requests->visualdl->paddlenlp) (2.8)\n",
      "Requirement already satisfied, skipping upgrade: python-dateutil>=2.7.3 in /opt/conda/envs/python35-paddle120-env/lib/python3.7/site-packages (from pandas->visualdl->paddlenlp) (2.8.0)\n",
      "Requirement already satisfied, skipping upgrade: pytz>=2017.2 in /opt/conda/envs/python35-paddle120-env/lib/python3.7/site-packages (from pandas->visualdl->paddlenlp) (2019.3)\n",
      "Requirement already satisfied, skipping upgrade: pyparsing!=2.0.4,!=2.1.2,!=2.1.6,>=2.0.1 in /opt/conda/envs/python35-paddle120-env/lib/python3.7/site-packages (from matplotlib->visualdl->paddlenlp) (2.4.2)\n",
      "Requirement already satisfied, skipping upgrade: kiwisolver>=1.0.1 in /opt/conda/envs/python35-paddle120-env/lib/python3.7/site-packages (from matplotlib->visualdl->paddlenlp) (1.1.0)\n",
      "Requirement already satisfied, skipping upgrade: cycler>=0.10 in /opt/conda/envs/python35-paddle120-env/lib/python3.7/site-packages (from matplotlib->visualdl->paddlenlp) (0.10.0)\n",
      "Requirement already satisfied, skipping upgrade: importlib-metadata; python_version < \"3.8\" in /opt/conda/envs/python35-paddle120-env/lib/python3.7/site-packages (from pre-commit->visualdl->paddlenlp) (0.23)\n",
      "Requirement already satisfied, skipping upgrade: aspy.yaml in /opt/conda/envs/python35-paddle120-env/lib/python3.7/site-packages (from pre-commit->visualdl->paddlenlp) (1.3.0)\n",
      "Requirement already satisfied, skipping upgrade: nodeenv>=0.11.1 in /opt/conda/envs/python35-paddle120-env/lib/python3.7/site-packages (from pre-commit->visualdl->paddlenlp) (1.3.4)\n",
      "Requirement already satisfied, skipping upgrade: cfgv>=2.0.0 in /opt/conda/envs/python35-paddle120-env/lib/python3.7/site-packages (from pre-commit->visualdl->paddlenlp) (2.0.1)\n",
      "Requirement already satisfied, skipping upgrade: toml in /opt/conda/envs/python35-paddle120-env/lib/python3.7/site-packages (from pre-commit->visualdl->paddlenlp) (0.10.0)\n",
      "Requirement already satisfied, skipping upgrade: identify>=1.0.0 in /opt/conda/envs/python35-paddle120-env/lib/python3.7/site-packages (from pre-commit->visualdl->paddlenlp) (1.4.10)\n",
      "Requirement already satisfied, skipping upgrade: virtualenv>=15.2 in /opt/conda/envs/python35-paddle120-env/lib/python3.7/site-packages (from pre-commit->visualdl->paddlenlp) (16.7.9)\n",
      "Requirement already satisfied, skipping upgrade: pyyaml in /opt/conda/envs/python35-paddle120-env/lib/python3.7/site-packages (from pre-commit->visualdl->paddlenlp) (5.1.2)\n",
      "Requirement already satisfied, skipping upgrade: Babel>=2.3 in /opt/conda/envs/python35-paddle120-env/lib/python3.7/site-packages (from Flask-Babel>=1.0.0->visualdl->paddlenlp) (2.8.0)\n",
      "Requirement already satisfied, skipping upgrade: pycodestyle<2.7.0,>=2.6.0a1 in /opt/conda/envs/python35-paddle120-env/lib/python3.7/site-packages (from flake8>=3.7.9->visualdl->paddlenlp) (2.6.0)\n",
      "Requirement already satisfied, skipping upgrade: mccabe<0.7.0,>=0.6.0 in /opt/conda/envs/python35-paddle120-env/lib/python3.7/site-packages (from flake8>=3.7.9->visualdl->paddlenlp) (0.6.1)\n",
      "Requirement already satisfied, skipping upgrade: pyflakes<2.3.0,>=2.2.0 in /opt/conda/envs/python35-paddle120-env/lib/python3.7/site-packages (from flake8>=3.7.9->visualdl->paddlenlp) (2.2.0)\n",
      "Requirement already satisfied, skipping upgrade: scipy>=0.19.1 in /opt/conda/envs/python35-paddle120-env/lib/python3.7/site-packages (from scikit-learn>=0.21.3->seqeval->paddlenlp) (1.6.3)\n",
      "Requirement already satisfied, skipping upgrade: threadpoolctl>=2.0.0 in /opt/conda/envs/python35-paddle120-env/lib/python3.7/site-packages (from scikit-learn>=0.21.3->seqeval->paddlenlp) (2.1.0)\n",
      "Requirement already satisfied, skipping upgrade: joblib>=0.11 in /opt/conda/envs/python35-paddle120-env/lib/python3.7/site-packages (from scikit-learn>=0.21.3->seqeval->paddlenlp) (0.14.1)\n",
      "Requirement already satisfied, skipping upgrade: MarkupSafe>=0.23 in /opt/conda/envs/python35-paddle120-env/lib/python3.7/site-packages (from Jinja2>=2.10.1->flask>=1.1.1->visualdl->paddlenlp) (1.1.1)\n",
      "Requirement already satisfied, skipping upgrade: setuptools in /opt/conda/envs/python35-paddle120-env/lib/python3.7/site-packages (from kiwisolver>=1.0.1->matplotlib->visualdl->paddlenlp) (56.2.0)\n",
      "Requirement already satisfied, skipping upgrade: zipp>=0.5 in /opt/conda/envs/python35-paddle120-env/lib/python3.7/site-packages (from importlib-metadata; python_version < \"3.8\"->pre-commit->visualdl->paddlenlp) (0.6.0)\n",
      "Requirement already satisfied, skipping upgrade: more-itertools in /opt/conda/envs/python35-paddle120-env/lib/python3.7/site-packages (from zipp>=0.5->importlib-metadata; python_version < \"3.8\"->pre-commit->visualdl->paddlenlp) (7.2.0)\n"
     ]
    }
   ],
   "source": [
    "!pip install --upgrade paddlenlp -i https://pypi.org/simple"
   ]
  },
  {
   "cell_type": "markdown",
   "metadata": {
    "collapsed": false
   },
   "source": [
    "## 加载TokenEmbedding\n",
    "\n",
    "`TokenEmbedding()`参数\n",
    "- `embedding_name`\n",
    "将模型名称以参数形式传入TokenEmbedding，加载对应的模型。默认为`w2v.baidu_encyclopedia.target.word-word.dim300`的词向量。\n",
    "- `unknown_token`\n",
    "未知token的表示，默认为[UNK]。\n",
    "- `unknown_token_vector`\n",
    "未知token的向量表示，默认生成和embedding维数一致，数值均值为0的正态分布向量。\n",
    "- `extended_vocab_path`\n",
    "扩展词汇列表文件路径，词表格式为一行一个词。如引入扩展词汇列表，trainable=True。\n",
    "- `trainable`\n",
    "Embedding层是否可被训练。True表示Embedding可以更新参数，False为不可更新。默认为True。"
   ]
  },
  {
   "cell_type": "code",
   "execution_count": 31,
   "metadata": {
    "collapsed": false
   },
   "outputs": [
    {
     "name": "stderr",
     "output_type": "stream",
     "text": [
      "[2021-06-09 10:31:12,303] [    INFO] - Loading token embedding...\n",
      "[2021-06-09 10:31:15,360] [    INFO] - Finish loading embedding vector.\n",
      "[2021-06-09 10:31:15,364] [    INFO] - Token Embedding info:             \n",
      "Unknown index: 259869             \n",
      "Unknown token: [UNK]             \n",
      "Padding index: 259870             \n",
      "Padding token: [PAD]             \n",
      "Shape :[259871, 300]\n"
     ]
    },
    {
     "name": "stdout",
     "output_type": "stream",
     "text": [
      "Object   type: TokenEmbedding(259871, 300, padding_idx=259870, sparse=False)             \n",
      "Unknown index: 259869             \n",
      "Unknown token: [UNK]             \n",
      "Padding index: 259870             \n",
      "Padding token: [PAD]             \n",
      "Parameter containing:\n",
      "Tensor(shape=[259871, 300], dtype=float32, place=CUDAPlace(0), stop_gradient=False,\n",
      "       [[-0.14120901,  0.27027699,  0.31527299, ...,  0.15641800, -0.19231300,  0.25060600],\n",
      "        [-0.06366800,  0.24570800,  0.07741000, ...,  0.16832000, -0.09456900, -0.03270100],\n",
      "        [-0.14147601,  0.32319701,  0.23452000, ...,  0.19295600, -0.21397300,  0.14247900],\n",
      "        ...,\n",
      "        [-0.00878400,  0.02545000, -0.00741000, ...,  0.00683700,  0.02609900, -0.00226000],\n",
      "        [-0.01683616, -0.01629290, -0.01280183, ...,  0.02024328,  0.02392335,  0.00326494],\n",
      "        [ 0.        ,  0.        ,  0.        , ...,  0.        ,  0.        ,  0.        ]])\n"
     ]
    }
   ],
   "source": [
    "from paddlenlp.embeddings import TokenEmbedding\n",
    "\n",
    "# 初始化TokenEmbedding， 预训练embedding未下载时会自动下载并加载数据\n",
    "# 需要更换所选的词向量\n",
    "token_embedding = TokenEmbedding(embedding_name=\"w2v.zhihu.target.word-word.dim300\")\n",
    "\n",
    "# 查看token_embedding详情\n",
    "print(token_embedding)"
   ]
  },
  {
   "cell_type": "markdown",
   "metadata": {
    "collapsed": false
   },
   "source": [
    "### 认识一下Embedding\n",
    "**`TokenEmbedding.search()`**\n",
    "获得指定词汇的词向量。"
   ]
  },
  {
   "cell_type": "code",
   "execution_count": 32,
   "metadata": {
    "collapsed": false
   },
   "outputs": [
    {
     "name": "stdout",
     "output_type": "stream",
     "text": [
      "[[-0.050675  0.389359 -0.047603 -0.219095 -0.02125  -0.05978  -0.107894\n",
      "  -0.437758  0.718608 -0.006098  0.019931  0.080586  0.06186  -0.454911\n",
      "  -0.186453  0.024819  0.375465 -0.440293 -0.206464 -0.076949  0.247472\n",
      "   0.261088 -0.551736 -0.36161  -0.095886 -0.036588  0.277976 -0.255888\n",
      "  -0.125811  0.185876 -0.139029 -0.195927 -0.215003  0.2252    0.413875\n",
      "   0.330135  0.10656   0.371737 -0.33802   0.387176  0.02934  -0.221087\n",
      "   0.305827  0.377566 -0.244868  0.05596  -0.302801 -0.154232 -0.056526\n",
      "  -0.269685 -0.253102  0.065005  0.098844  0.009086  0.030133  0.132725\n",
      "  -0.165863  0.269012  0.396012  0.233999 -0.074842  0.052792  0.101511\n",
      "  -0.062221 -0.034325 -0.462514 -0.032913  0.253359  0.070139 -0.005722\n",
      "  -0.145624  0.562561 -0.070229 -0.334574  0.048809  0.267761  0.175304\n",
      "  -0.280709 -0.348899 -0.056453 -0.02883   0.094529  0.206712  0.00881\n",
      "  -0.292504 -0.199201 -0.323354 -0.052233 -0.32256  -0.177207  0.061404\n",
      "  -0.315151 -0.120229  0.329863  0.045748 -0.282234  0.035706 -0.320401\n",
      "   0.122151 -0.184126  0.216267  0.527668 -0.167555  0.334739 -0.336829\n",
      "  -0.271309  0.298253 -0.003231  0.134206  0.210833 -0.119937 -0.280784\n",
      "   0.263579  0.043835 -0.008208  0.185255 -0.371274 -0.032104 -0.086502\n",
      "   0.162428  0.089541  0.011005  0.189744 -0.142038 -0.036906  0.053916\n",
      "   0.269221  0.101244 -0.075597 -0.242873  0.138155 -0.402964 -0.090192\n",
      "  -0.182096  0.209117  0.109868 -0.219481 -0.348466 -0.155651 -0.244489\n",
      "  -0.080459  0.030706 -0.130498  0.154898  0.131863  0.294203  0.301276\n",
      "  -0.104187 -0.106347  0.26304   0.060242 -0.11584  -0.260753 -0.08841\n",
      "   0.201761 -0.209156 -0.005249 -0.020017  0.020513  0.134588 -0.025206\n",
      "   0.009396 -0.198288  0.040295  0.103025 -0.3106   -0.176509  0.109743\n",
      "   0.189067  0.201871 -0.266129 -0.160238 -0.149404  0.140032 -0.312997\n",
      "   0.096933 -0.335165  0.070809  0.294239 -0.020392  0.061638  0.106629\n",
      "   0.00521   0.063333  0.165118 -0.031958 -0.073606 -0.063167  0.053746\n",
      "   0.014369  0.511823 -0.209168  0.3368   -0.434139 -0.302272 -0.211365\n",
      "  -0.272918 -0.159441 -0.198034  0.022815 -0.301587  0.212818 -0.284934\n",
      "  -0.111296  0.249342  0.265063 -0.102702  0.675899  0.016606  0.305101\n",
      "  -0.038144  0.105843 -0.185106 -0.374184  0.078049 -0.047729  0.241436\n",
      "   0.145407  0.058622  0.016886 -0.021614 -0.29513   0.180247 -0.190444\n",
      "  -0.198155 -0.07971  -0.020458  0.212226 -0.101045 -0.398021  0.191205\n",
      "   0.399725 -0.330436 -0.301296 -0.219872 -0.432372  0.527396  0.046946\n",
      "  -0.225008 -0.159914  0.224927 -0.203569 -0.511428 -0.039419  0.17321\n",
      "   0.114129  0.264857  0.30901   0.270752 -0.314588  0.431644  0.217531\n",
      "  -0.108793  0.020191 -0.05498  -0.480264 -0.130407 -0.03782  -0.194044\n",
      "  -0.093888  0.041607 -0.188919  0.053461  0.116924  0.137484 -0.086682\n",
      "   0.187755  0.309773 -0.337444 -0.065008 -0.01908  -0.159854  0.136794\n",
      "   0.428993 -0.10104  -0.433524  0.079409  0.344843 -0.128342 -0.14511\n",
      "   0.24013  -0.383036  0.204246 -0.181672 -0.242651 -0.063021 -0.128057\n",
      "  -0.125703  0.220243  0.16811   0.344838 -0.027072  0.128907 -0.156514\n",
      "  -0.04667   0.086542  0.255487 -0.041804 -0.203935 -0.371196]]\n"
     ]
    }
   ],
   "source": [
    "test_token_embedding = token_embedding.search(\"中国\")\n",
    "print(test_token_embedding)"
   ]
  },
  {
   "cell_type": "markdown",
   "metadata": {
    "collapsed": false
   },
   "source": [
    "**`TokenEmbedding.cosine_sim()`**\n",
    "计算词向量间余弦相似度，语义相近的词语余弦相似度更高，说明预训练好的词向量空间有很好的语义表示能力。"
   ]
  },
  {
   "cell_type": "code",
   "execution_count": 33,
   "metadata": {
    "collapsed": false
   },
   "outputs": [
    {
     "name": "stdout",
     "output_type": "stream",
     "text": [
      "score1: 0.6482385\n",
      "score2: 0.11161258\n"
     ]
    }
   ],
   "source": [
    "score1 = token_embedding.cosine_sim(\"女孩\", \"女人\")\n",
    "score2 = token_embedding.cosine_sim(\"女孩\", \"书籍\")\n",
    "print('score1:', score1)\n",
    "print('score2:', score2)"
   ]
  },
  {
   "cell_type": "markdown",
   "metadata": {
    "collapsed": false
   },
   "source": [
    "### 词向量映射到低维空间\n",
    "\n",
    "使用深度学习可视化工具[VisualDL](https://github.com/PaddlePaddle/VisualDL)的[High Dimensional](https://github.com/PaddlePaddle/VisualDL/blob/develop/docs/components/README_CN.md#High-Dimensional--%E6%95%B0%E6%8D%AE%E9%99%8D%E7%BB%B4%E7%BB%84%E4%BB%B6)组件可以对embedding结果进行可视化展示，便于对其直观分析，步骤如下：\n",
    "\n",
    "1. 升级 VisualDL 最新版本。\n",
    "\n",
    "`pip install --upgrade visualdl`\n",
    "\n",
    "2. 创建LogWriter并将记录词向量。\n",
    "\n",
    "3. 点击左侧面板中的可视化tab，选择‘token_hidi’作为文件并启动VisualDL可视化"
   ]
  },
  {
   "cell_type": "code",
   "execution_count": 34,
   "metadata": {
    "collapsed": false
   },
   "outputs": [
    {
     "name": "stdout",
     "output_type": "stream",
     "text": [
      "Looking in indexes: https://mirror.baidu.com/pypi/simple/\n",
      "Requirement already up-to-date: visualdl in /opt/conda/envs/python35-paddle120-env/lib/python3.7/site-packages (2.2.0)\n",
      "Requirement already satisfied, skipping upgrade: six>=1.14.0 in /opt/conda/envs/python35-paddle120-env/lib/python3.7/site-packages (from visualdl) (1.15.0)\n",
      "Requirement already satisfied, skipping upgrade: flake8>=3.7.9 in /opt/conda/envs/python35-paddle120-env/lib/python3.7/site-packages (from visualdl) (3.8.2)\n",
      "Requirement already satisfied, skipping upgrade: pre-commit in /opt/conda/envs/python35-paddle120-env/lib/python3.7/site-packages (from visualdl) (1.21.0)\n",
      "Requirement already satisfied, skipping upgrade: protobuf>=3.11.0 in /opt/conda/envs/python35-paddle120-env/lib/python3.7/site-packages (from visualdl) (3.14.0)\n",
      "Requirement already satisfied, skipping upgrade: matplotlib in /opt/conda/envs/python35-paddle120-env/lib/python3.7/site-packages (from visualdl) (2.2.3)\n",
      "Requirement already satisfied, skipping upgrade: shellcheck-py in /opt/conda/envs/python35-paddle120-env/lib/python3.7/site-packages (from visualdl) (0.7.1.1)\n",
      "Requirement already satisfied, skipping upgrade: Flask-Babel>=1.0.0 in /opt/conda/envs/python35-paddle120-env/lib/python3.7/site-packages (from visualdl) (1.0.0)\n",
      "Requirement already satisfied, skipping upgrade: flask>=1.1.1 in /opt/conda/envs/python35-paddle120-env/lib/python3.7/site-packages (from visualdl) (1.1.1)\n",
      "Requirement already satisfied, skipping upgrade: Pillow>=7.0.0 in /opt/conda/envs/python35-paddle120-env/lib/python3.7/site-packages (from visualdl) (7.1.2)\n",
      "Requirement already satisfied, skipping upgrade: numpy in /opt/conda/envs/python35-paddle120-env/lib/python3.7/site-packages (from visualdl) (1.20.3)\n",
      "Requirement already satisfied, skipping upgrade: pandas in /opt/conda/envs/python35-paddle120-env/lib/python3.7/site-packages (from visualdl) (1.1.5)\n",
      "Requirement already satisfied, skipping upgrade: requests in /opt/conda/envs/python35-paddle120-env/lib/python3.7/site-packages (from visualdl) (2.22.0)\n",
      "Requirement already satisfied, skipping upgrade: bce-python-sdk in /opt/conda/envs/python35-paddle120-env/lib/python3.7/site-packages (from visualdl) (0.8.53)\n",
      "Requirement already satisfied, skipping upgrade: pycodestyle<2.7.0,>=2.6.0a1 in /opt/conda/envs/python35-paddle120-env/lib/python3.7/site-packages (from flake8>=3.7.9->visualdl) (2.6.0)\n",
      "Requirement already satisfied, skipping upgrade: mccabe<0.7.0,>=0.6.0 in /opt/conda/envs/python35-paddle120-env/lib/python3.7/site-packages (from flake8>=3.7.9->visualdl) (0.6.1)\n",
      "Requirement already satisfied, skipping upgrade: pyflakes<2.3.0,>=2.2.0 in /opt/conda/envs/python35-paddle120-env/lib/python3.7/site-packages (from flake8>=3.7.9->visualdl) (2.2.0)\n",
      "Requirement already satisfied, skipping upgrade: importlib-metadata; python_version < \"3.8\" in /opt/conda/envs/python35-paddle120-env/lib/python3.7/site-packages (from flake8>=3.7.9->visualdl) (0.23)\n",
      "Requirement already satisfied, skipping upgrade: aspy.yaml in /opt/conda/envs/python35-paddle120-env/lib/python3.7/site-packages (from pre-commit->visualdl) (1.3.0)\n",
      "Requirement already satisfied, skipping upgrade: identify>=1.0.0 in /opt/conda/envs/python35-paddle120-env/lib/python3.7/site-packages (from pre-commit->visualdl) (1.4.10)\n",
      "Requirement already satisfied, skipping upgrade: toml in /opt/conda/envs/python35-paddle120-env/lib/python3.7/site-packages (from pre-commit->visualdl) (0.10.0)\n",
      "Requirement already satisfied, skipping upgrade: virtualenv>=15.2 in /opt/conda/envs/python35-paddle120-env/lib/python3.7/site-packages (from pre-commit->visualdl) (16.7.9)\n",
      "Requirement already satisfied, skipping upgrade: nodeenv>=0.11.1 in /opt/conda/envs/python35-paddle120-env/lib/python3.7/site-packages (from pre-commit->visualdl) (1.3.4)\n",
      "Requirement already satisfied, skipping upgrade: pyyaml in /opt/conda/envs/python35-paddle120-env/lib/python3.7/site-packages (from pre-commit->visualdl) (5.1.2)\n",
      "Requirement already satisfied, skipping upgrade: cfgv>=2.0.0 in /opt/conda/envs/python35-paddle120-env/lib/python3.7/site-packages (from pre-commit->visualdl) (2.0.1)\n",
      "Requirement already satisfied, skipping upgrade: pytz in /opt/conda/envs/python35-paddle120-env/lib/python3.7/site-packages (from matplotlib->visualdl) (2019.3)\n",
      "Requirement already satisfied, skipping upgrade: cycler>=0.10 in /opt/conda/envs/python35-paddle120-env/lib/python3.7/site-packages (from matplotlib->visualdl) (0.10.0)\n",
      "Requirement already satisfied, skipping upgrade: python-dateutil>=2.1 in /opt/conda/envs/python35-paddle120-env/lib/python3.7/site-packages (from matplotlib->visualdl) (2.8.0)\n",
      "Requirement already satisfied, skipping upgrade: kiwisolver>=1.0.1 in /opt/conda/envs/python35-paddle120-env/lib/python3.7/site-packages (from matplotlib->visualdl) (1.1.0)\n",
      "Requirement already satisfied, skipping upgrade: pyparsing!=2.0.4,!=2.1.2,!=2.1.6,>=2.0.1 in /opt/conda/envs/python35-paddle120-env/lib/python3.7/site-packages (from matplotlib->visualdl) (2.4.2)\n",
      "Requirement already satisfied, skipping upgrade: Babel>=2.3 in /opt/conda/envs/python35-paddle120-env/lib/python3.7/site-packages (from Flask-Babel>=1.0.0->visualdl) (2.8.0)\n",
      "Requirement already satisfied, skipping upgrade: Jinja2>=2.5 in /opt/conda/envs/python35-paddle120-env/lib/python3.7/site-packages (from Flask-Babel>=1.0.0->visualdl) (2.10.1)\n",
      "Requirement already satisfied, skipping upgrade: click>=5.1 in /opt/conda/envs/python35-paddle120-env/lib/python3.7/site-packages (from flask>=1.1.1->visualdl) (7.0)\n",
      "Requirement already satisfied, skipping upgrade: itsdangerous>=0.24 in /opt/conda/envs/python35-paddle120-env/lib/python3.7/site-packages (from flask>=1.1.1->visualdl) (1.1.0)\n",
      "Requirement already satisfied, skipping upgrade: Werkzeug>=0.15 in /opt/conda/envs/python35-paddle120-env/lib/python3.7/site-packages (from flask>=1.1.1->visualdl) (0.16.0)\n",
      "Requirement already satisfied, skipping upgrade: certifi>=2017.4.17 in /opt/conda/envs/python35-paddle120-env/lib/python3.7/site-packages (from requests->visualdl) (2019.9.11)\n",
      "Requirement already satisfied, skipping upgrade: idna<2.9,>=2.5 in /opt/conda/envs/python35-paddle120-env/lib/python3.7/site-packages (from requests->visualdl) (2.8)\n",
      "Requirement already satisfied, skipping upgrade: urllib3!=1.25.0,!=1.25.1,<1.26,>=1.21.1 in /opt/conda/envs/python35-paddle120-env/lib/python3.7/site-packages (from requests->visualdl) (1.25.6)\n",
      "Requirement already satisfied, skipping upgrade: chardet<3.1.0,>=3.0.2 in /opt/conda/envs/python35-paddle120-env/lib/python3.7/site-packages (from requests->visualdl) (3.0.4)\n",
      "Requirement already satisfied, skipping upgrade: pycryptodome>=3.8.0 in /opt/conda/envs/python35-paddle120-env/lib/python3.7/site-packages (from bce-python-sdk->visualdl) (3.9.9)\n",
      "Requirement already satisfied, skipping upgrade: future>=0.6.0 in /opt/conda/envs/python35-paddle120-env/lib/python3.7/site-packages (from bce-python-sdk->visualdl) (0.18.0)\n",
      "Requirement already satisfied, skipping upgrade: zipp>=0.5 in /opt/conda/envs/python35-paddle120-env/lib/python3.7/site-packages (from importlib-metadata; python_version < \"3.8\"->flake8>=3.7.9->visualdl) (0.6.0)\n",
      "Requirement already satisfied, skipping upgrade: setuptools in /opt/conda/envs/python35-paddle120-env/lib/python3.7/site-packages (from kiwisolver>=1.0.1->matplotlib->visualdl) (56.2.0)\n",
      "Requirement already satisfied, skipping upgrade: MarkupSafe>=0.23 in /opt/conda/envs/python35-paddle120-env/lib/python3.7/site-packages (from Jinja2>=2.5->Flask-Babel>=1.0.0->visualdl) (1.1.1)\n",
      "Requirement already satisfied, skipping upgrade: more-itertools in /opt/conda/envs/python35-paddle120-env/lib/python3.7/site-packages (from zipp>=0.5->importlib-metadata; python_version < \"3.8\"->flake8>=3.7.9->visualdl) (7.2.0)\n"
     ]
    }
   ],
   "source": [
    "!pip install --upgrade visualdl"
   ]
  },
  {
   "cell_type": "code",
   "execution_count": 35,
   "metadata": {
    "collapsed": false
   },
   "outputs": [],
   "source": [
    "# 获取词表中前1000个单词\n",
    "labels = token_embedding.vocab.to_tokens(list(range(0, 1000)))\n",
    "# 取出这1000个单词对应的Embedding\n",
    "test_token_embedding = token_embedding.search(labels)\n",
    "\n",
    "# 引入VisualDL的LogWriter记录日志\n",
    "from visualdl import LogWriter\n",
    "\n",
    "with LogWriter(logdir='./token_hidi') as writer:\n",
    "    writer.add_embeddings(tag='test', mat=[i for i in test_token_embedding], metadata=labels)"
   ]
  },
  {
   "cell_type": "markdown",
   "metadata": {
    "collapsed": false
   },
   "source": []
  },
  {
   "cell_type": "markdown",
   "metadata": {
    "collapsed": false
   },
   "source": [
    "#### 启动VisualDL查看词向量降维效果\n",
    "启动步骤：\n",
    "- 1、切换到「可视化」指定可视化日志\n",
    "- 2、日志文件选择 'token_hidi'\n",
    "- 3、点击「启动VisualDL」后点击「打开VisualDL」，选择「高维数据映射」，即可查看词表中前1000词UMAP方法下映射到三维空间的可视化结果:\n",
    "\n",
    "![](https://user-images.githubusercontent.com/48054808/120594172-1fe02b00-c473-11eb-9df1-c0206b07e948.gif)\n",
    "\n",
    "可以看出，语义相近的词在词向量空间中聚集(如数字、章节等)，说明预训练好的词向量有很好的文本表示能力。\n",
    "\n",
    "使用VisualDL除可视化embedding结果外，还可以对标量、图片、音频等进行可视化，有效提升训练调参效率。关于VisualDL更多功能和详细介绍，可参考[VisualDL使用文档](https://github.com/PaddlePaddle/VisualDL/tree/develop/docs)。"
   ]
  },
  {
   "cell_type": "markdown",
   "metadata": {
    "collapsed": false
   },
   "source": [
    "## 基于TokenEmbedding衡量句子语义相似度\n",
    "\n",
    "在许多实际应用场景（如文档检索系统）中， 需要衡量两个句子的语义相似程度。此时我们可以使用词袋模型（Bag of Words，简称BoW）计算句子的语义向量。\n",
    "\n",
    "**首先**，将两个句子分别进行切词，并在TokenEmbedding中查找相应的单词词向量（word embdding）。\n",
    "\n",
    "**然后**，根据词袋模型，将句子的word embedding叠加作为句子向量（sentence embedding）。\n",
    "\n",
    "**最后**，计算两个句子向量的余弦相似度。\n",
    "\n",
    "### 基于TokenEmbedding的词袋模型\n",
    "\n",
    "\n",
    "使用`BoWEncoder`搭建一个BoW模型用于计算句子语义。\n",
    "\n",
    "* `paddlenlp.TokenEmbedding`组建word-embedding层\n",
    "* `paddlenlp.seq2vec.BoWEncoder`组建句子建模层\n"
   ]
  },
  {
   "cell_type": "code",
   "execution_count": 47,
   "metadata": {
    "collapsed": false
   },
   "outputs": [],
   "source": [
    "import paddle\n",
    "import paddle.nn as nn\n",
    "import paddlenlp\n",
    "\n",
    "\n",
    "class BoWModel(nn.Layer):\n",
    "    def __init__(self, embedder):\n",
    "        super().__init__()\n",
    "        self.embedder = embedder\n",
    "        emb_dim = self.embedder.embedding_dim\n",
    "        self.encoder = paddlenlp.seq2vec.BoWEncoder(emb_dim)\n",
    "        self.cos_sim_func = nn.CosineSimilarity(axis=-1)\n",
    "\n",
    "    def get_cos_sim(self, text_a, text_b):\n",
    "        text_a_embedding = self.forward(text_a)\n",
    "        text_b_embedding = self.forward(text_b)\n",
    "        cos_sim = self.cos_sim_func(text_a_embedding, text_b_embedding)\n",
    "        return cos_sim\n",
    "\n",
    "    def forward(self, text):\n",
    "        # Shape: (batch_size, num_tokens, embedding_dim)\n",
    "        embedded_text = self.embedder(text)\n",
    "\n",
    "        # Shape: (batch_size, embedding_dim)\n",
    "        summed = self.encoder(embedded_text)\n",
    "\n",
    "        return summed\n",
    "\n",
    "model = BoWModel(embedder=token_embedding)"
   ]
  },
  {
   "cell_type": "markdown",
   "metadata": {
    "collapsed": false
   },
   "source": [
    "### 构造Tokenizer\n",
    "使用TokenEmbedding词表构造Tokenizer。"
   ]
  },
  {
   "cell_type": "code",
   "execution_count": 48,
   "metadata": {
    "collapsed": false
   },
   "outputs": [],
   "source": [
    "from data import Tokenizer\n",
    "tokenizer = Tokenizer()\n",
    "tokenizer.set_vocab(vocab=token_embedding.vocab)"
   ]
  },
  {
   "cell_type": "markdown",
   "metadata": {
    "collapsed": false
   },
   "source": [
    "### 相似句对数据读取\n",
    "\n",
    "以提供的样例数据text_pair.txt为例，该数据文件每行包含两个句子。\n"
   ]
  },
  {
   "cell_type": "code",
   "execution_count": 49,
   "metadata": {
    "collapsed": false
   },
   "outputs": [],
   "source": [
    "text_pairs = {}\n",
    "with open(\"text_pair.txt\", \"r\", encoding=\"utf8\") as f:\n",
    "    for line in f:\n",
    "        text_a, text_b = line.strip().split(\"\\t\")\n",
    "        if text_a not in text_pairs:\n",
    "            text_pairs[text_a] = []\n",
    "        text_pairs[text_a].append(text_b)"
   ]
  },
  {
   "cell_type": "markdown",
   "metadata": {
    "collapsed": false
   },
   "source": [
    "### 查看相似语句相关度"
   ]
  },
  {
   "cell_type": "code",
   "execution_count": 50,
   "metadata": {
    "collapsed": false
   },
   "outputs": [
    {
     "name": "stdout",
     "output_type": "stream",
     "text": [
      "text_a: 多项式矩阵左共轭积对偶Sylvester共轭和数学算子完备参数解\n",
      "text_b: 多项式矩阵的左共轭积及其应用\n",
      "cosine_sim: 0.8552977442741394\n",
      "\n",
      "text_a: 多项式矩阵左共轭积对偶Sylvester共轭和数学算子完备参数解\n",
      "text_b: 退化阻尼对高维可压缩欧拉方程组经典解的影响\n",
      "cosine_sim: 0.8096697926521301\n",
      "\n",
      "text_a: 多项式矩阵左共轭积对偶Sylvester共轭和数学算子完备参数解\n",
      "text_b: Burgers方程基于特征正交分解方法的数值解法研究\n",
      "cosine_sim: 0.8137984275817871\n",
      "\n",
      "text_a: 多项式矩阵左共轭积对偶Sylvester共轭和数学算子完备参数解\n",
      "text_b: 有界对称域上解析函数空间的若干性质\n",
      "cosine_sim: 0.7703490853309631\n",
      "\n",
      "text_a: 多项式矩阵左共轭积对偶Sylvester共轭和数学算子完备参数解\n",
      "text_b: 基于卷积神经网络的图像复杂度研究与应用\n",
      "cosine_sim: 0.7326026558876038\n",
      "\n",
      "text_a: 多项式矩阵左共轭积对偶Sylvester共轭和数学算子完备参数解\n",
      "text_b: Cartesian发射机中线性功率放大器的研究\n",
      "cosine_sim: 0.7905266284942627\n",
      "\n",
      "text_a: 多项式矩阵左共轭积对偶Sylvester共轭和数学算子完备参数解\n",
      "text_b: CFRP加固WF型梁侧扭屈曲的几何非线性有限元分析\n",
      "cosine_sim: 0.8019884824752808\n",
      "\n",
      "text_a: 多项式矩阵左共轭积对偶Sylvester共轭和数学算子完备参数解\n",
      "text_b: 基于线性CCD自适应成像的光刻机平台调平方法研究\n",
      "cosine_sim: 0.7312490940093994\n",
      "\n",
      "text_a: 多项式矩阵左共轭积对偶Sylvester共轭和数学算子完备参数解\n",
      "text_b: 基于变分贝叶斯理论的图像复原方法研究\n",
      "cosine_sim: 0.6959764361381531\n",
      "\n",
      "text_a: 多项式矩阵左共轭积对偶Sylvester共轭和数学算子完备参数解\n",
      "text_b: 网格资源分配中混合并行蚁群算法方式研究\n",
      "cosine_sim: 0.708863377571106\n",
      "\n",
      "text_a: 停车信息系统路径诱导最佳路径车位占有率城市交通智能交通\n",
      "text_b: 中心式停车信息系统若干问题的研究\n",
      "cosine_sim: 0.7650144696235657\n",
      "\n",
      "text_a: 停车信息系统路径诱导最佳路径车位占有率城市交通智能交通\n",
      "text_b: 视觉导航区域交通智能车辆（CyberCar）系统研究\n",
      "cosine_sim: 0.7696292996406555\n",
      "\n",
      "text_a: 停车信息系统路径诱导最佳路径车位占有率城市交通智能交通\n",
      "text_b: 需求侧参与输电阻塞管理的模型与算法研究\n",
      "cosine_sim: 0.7166422605514526\n",
      "\n",
      "text_a: 停车信息系统路径诱导最佳路径车位占有率城市交通智能交通\n",
      "text_b: 基于云服务的智能家居系统的研究与设计\n",
      "cosine_sim: 0.7044299840927124\n",
      "\n",
      "text_a: 停车信息系统路径诱导最佳路径车位占有率城市交通智能交通\n",
      "text_b: 环境水质在线监测系统智能主节点的研究与设计\n",
      "cosine_sim: 0.7590498924255371\n",
      "\n",
      "text_a: 停车信息系统路径诱导最佳路径车位占有率城市交通智能交通\n",
      "text_b: 配电网故障自动处理算法的研究及软件开发\n",
      "cosine_sim: 0.7263727188110352\n",
      "\n",
      "text_a: 停车信息系统路径诱导最佳路径车位占有率城市交通智能交通\n",
      "text_b: 基于GeoMedia的高速公路监控系统的研究与开发\n",
      "cosine_sim: 0.7496820688247681\n",
      "\n",
      "text_a: 停车信息系统路径诱导最佳路径车位占有率城市交通智能交通\n",
      "text_b: 基于Java的模块化环境空气质量自动监测系统的研究与设计\n",
      "cosine_sim: 0.7262979745864868\n",
      "\n",
      "text_a: 停车信息系统路径诱导最佳路径车位占有率城市交通智能交通\n",
      "text_b: 边检预检预录系统建设及关键技术研究\n",
      "cosine_sim: 0.7210715413093567\n",
      "\n",
      "text_a: 停车信息系统路径诱导最佳路径车位占有率城市交通智能交通\n",
      "text_b: 基于多技术的路面积水监测预警系统的设计与实现\n",
      "cosine_sim: 0.7403110861778259\n",
      "\n",
      "text_a: 服务企业企业竞争力决定因素提升策略\n",
      "text_b: 服务企业竞争力决定因素与提升策略研究\n",
      "cosine_sim: 0.9559105634689331\n",
      "\n",
      "text_a: 服务企业企业竞争力决定因素提升策略\n",
      "text_b: 提升我国分析仪器产业竞争力的技术创新战略研究\n",
      "cosine_sim: 0.8179251551628113\n",
      "\n",
      "text_a: 服务企业企业竞争力决定因素提升策略\n",
      "text_b: 国有润滑油企业市场开发策略研究\n",
      "cosine_sim: 0.8004488348960876\n",
      "\n",
      "text_a: 服务企业企业竞争力决定因素提升策略\n",
      "text_b: 基于成功要素的企业ERP实施事前评估研究\n",
      "cosine_sim: 0.7840413451194763\n",
      "\n",
      "text_a: 服务企业企业竞争力决定因素提升策略\n",
      "text_b: 环境扫描对企业竞争优势的影响研究--以电子信息行业为例\n",
      "cosine_sim: 0.783523440361023\n",
      "\n",
      "text_a: 服务企业企业竞争力决定因素提升策略\n",
      "text_b: 浦发银行信用卡产品的营销策略研究\n",
      "cosine_sim: 0.7240756154060364\n",
      "\n",
      "text_a: 服务企业企业竞争力决定因素提升策略\n",
      "text_b: 我国出口企业的竞争战略研究\n",
      "cosine_sim: 0.7803703546524048\n",
      "\n",
      "text_a: 服务企业企业竞争力决定因素提升策略\n",
      "text_b: BMP公司供应商绩效指标体系的改进与实施\n",
      "cosine_sim: 0.778221845626831\n",
      "\n",
      "text_a: 服务企业企业竞争力决定因素提升策略\n",
      "text_b: P公司企业管理人员选拔任用体系研究\n",
      "cosine_sim: 0.7365740537643433\n",
      "\n",
      "text_a: 服务企业企业竞争力决定因素提升策略\n",
      "text_b: 高管性别结构、内部制衡与企业技术创新——基于我国创业板上市企业的实证研究\n",
      "cosine_sim: 0.7760432958602905\n",
      "\n",
      "text_a: 数字水印混沌映射版权保护序列密码小波变换\n",
      "text_b: 基于混沌映射的数字水印技术研究\n",
      "cosine_sim: 0.8187165856361389\n",
      "\n",
      "text_a: 数字水印混沌映射版权保护序列密码小波变换\n",
      "text_b: 基于卷积神经网络的图像复杂度研究与应用\n",
      "cosine_sim: 0.6795938014984131\n",
      "\n",
      "text_a: 数字水印混沌映射版权保护序列密码小波变换\n",
      "text_b: 基于图像内容的关键帧检测及VLSI实现\n",
      "cosine_sim: 0.6729882955551147\n",
      "\n",
      "text_a: 数字水印混沌映射版权保护序列密码小波变换\n",
      "text_b: 基于局部特征的多光谱与全色图像融合算法研究\n",
      "cosine_sim: 0.6742936372756958\n",
      "\n",
      "text_a: 数字水印混沌映射版权保护序列密码小波变换\n",
      "text_b: 基于嵌入式系统的人脸识别算法研究及其优化\n",
      "cosine_sim: 0.6590192317962646\n",
      "\n",
      "text_a: 数字水印混沌映射版权保护序列密码小波变换\n",
      "text_b: 基于多特征融合和图割模型的遥感影像云检测算法研究\n",
      "cosine_sim: 0.6600325107574463\n",
      "\n",
      "text_a: 数字水印混沌映射版权保护序列密码小波变换\n",
      "text_b: 基于动态符号执行的模糊测试方法研究\n",
      "cosine_sim: 0.6750897765159607\n",
      "\n",
      "text_a: 数字水印混沌映射版权保护序列密码小波变换\n",
      "text_b: 基于交通流增长特性的复杂网络演化建模研究\n",
      "cosine_sim: 0.6540876626968384\n",
      "\n",
      "text_a: 数字水印混沌映射版权保护序列密码小波变换\n",
      "text_b: 基于变分贝叶斯理论的图像复原方法研究\n",
      "cosine_sim: 0.6755164265632629\n",
      "\n",
      "text_a: 数字水印混沌映射版权保护序列密码小波变换\n",
      "text_b: 混沌控制和构造延迟混沌系统及应用的研究\n",
      "cosine_sim: 0.6548135876655579\n",
      "\n",
      "text_a: 有限元分析汽车车架焊缝危险部位寿命预测结构强度\n",
      "text_b: 汽车车架焊接结构强度和可靠性分析\n",
      "cosine_sim: 0.8917551040649414\n",
      "\n",
      "text_a: 有限元分析汽车车架焊缝危险部位寿命预测结构强度\n",
      "text_b: 基于天线传感器的FRP-钢结构典型损伤监测方法研究\n",
      "cosine_sim: 0.8324611783027649\n",
      "\n",
      "text_a: 有限元分析汽车车架焊缝危险部位寿命预测结构强度\n",
      "text_b: 有限元强度折减法对抗滑桩加固边坡的优化分析研究\n",
      "cosine_sim: 0.8283860087394714\n",
      "\n",
      "text_a: 有限元分析汽车车架焊缝危险部位寿命预测结构强度\n",
      "text_b: 弹性地基上周期梁板的隔振性能研究\n",
      "cosine_sim: 0.7633630633354187\n",
      "\n",
      "text_a: 有限元分析汽车车架焊缝危险部位寿命预测结构强度\n",
      "text_b: SIGMA冷弯薄壁型钢构件畸变屈曲的理论研究\n",
      "cosine_sim: 0.8065646886825562\n",
      "\n",
      "text_a: 有限元分析汽车车架焊缝危险部位寿命预测结构强度\n",
      "text_b: 梁拱组合刚构桥极限承载力分析与研究\n",
      "cosine_sim: 0.7524877786636353\n",
      "\n",
      "text_a: 有限元分析汽车车架焊缝危险部位寿命预测结构强度\n",
      "text_b: CFRP加固WF型梁侧扭屈曲的几何非线性有限元分析\n",
      "cosine_sim: 0.7677947878837585\n",
      "\n",
      "text_a: 有限元分析汽车车架焊缝危险部位寿命预测结构强度\n",
      "text_b: 典型缺陷真型电容式玻璃钢套管电气特征参量测试实验研究\n",
      "cosine_sim: 0.7838000059127808\n",
      "\n",
      "text_a: 有限元分析汽车车架焊缝危险部位寿命预测结构强度\n",
      "text_b: 基于ABB机器人的结构光视觉引导焊缝跟踪技术的研究\n",
      "cosine_sim: 0.7707199454307556\n",
      "\n",
      "text_a: 有限元分析汽车车架焊缝危险部位寿命预测结构强度\n",
      "text_b: 紊流风场中大跨度桥梁非线性气动稳定性研究\n",
      "cosine_sim: 0.7469643950462341\n",
      "\n",
      "text_a: 石墨烯导电聚合物复合材料超级电容器\n",
      "text_b: 石墨烯与导电聚合物复合材料的制备以及在超级电容器方面的应用\n",
      "cosine_sim: 0.9013779163360596\n",
      "\n",
      "text_a: 石墨烯导电聚合物复合材料超级电容器\n",
      "text_b: 碳纤维布增强聚酰亚胺基复合材料的制备及其力学和摩擦学性能研究\n",
      "cosine_sim: 0.8507833480834961\n",
      "\n",
      "text_a: 石墨烯导电聚合物复合材料超级电容器\n",
      "text_b: 石墨烯/硅橡胶复合材料的制备及压阻特性研究\n",
      "cosine_sim: 0.8861068487167358\n",
      "\n",
      "text_a: 石墨烯导电聚合物复合材料超级电容器\n",
      "text_b: 功能化碳纳米管在染料敏化太阳能电池对电极中的应用\n",
      "cosine_sim: 0.7943274974822998\n",
      "\n",
      "text_a: 石墨烯导电聚合物复合材料超级电容器\n",
      "text_b: 高介电常数铝阳极复合氧化膜制备技术的研究\n",
      "cosine_sim: 0.8769884705543518\n",
      "\n",
      "text_a: 石墨烯导电聚合物复合材料超级电容器\n",
      "text_b: 导电生物可降解聚酯/CNT纤维在神经再生中的研究\n",
      "cosine_sim: 0.7434647083282471\n",
      "\n",
      "text_a: 石墨烯导电聚合物复合材料超级电容器\n",
      "text_b: 二维MXene/镍基复合材料制备及其电化学性能研究\n",
      "cosine_sim: 0.8259846568107605\n",
      "\n",
      "text_a: 石墨烯导电聚合物复合材料超级电容器\n",
      "text_b: g--C3N4基复合材料的制备及其光催化性能研究\n",
      "cosine_sim: 0.8553550243377686\n",
      "\n",
      "text_a: 石墨烯导电聚合物复合材料超级电容器\n",
      "text_b: 无溶剂厚膜型环氧涂料的制备及其防腐性能的研究\n",
      "cosine_sim: 0.8118599653244019\n",
      "\n",
      "text_a: 石墨烯导电聚合物复合材料超级电容器\n",
      "text_b: 并五苯分子的手性自组装和单层薄膜的结构相变\n",
      "cosine_sim: 0.7712010145187378\n",
      "\n",
      "text_a: 企业管理管理信息系统多层结构框架平台\n",
      "text_b: 基于多层结构的业务框架平台\n",
      "cosine_sim: 0.8466699123382568\n",
      "\n",
      "text_a: 企业管理管理信息系统多层结构框架平台\n",
      "text_b: 基于BPR的管理信息系统开发与应用\n",
      "cosine_sim: 0.8361001014709473\n",
      "\n",
      "text_a: 企业管理管理信息系统多层结构框架平台\n",
      "text_b: 基于BIM的MEP管线综合知识库构建与可视化研究\n",
      "cosine_sim: 0.743158757686615\n",
      "\n",
      "text_a: 企业管理管理信息系统多层结构框架平台\n",
      "text_b: 基于J2EE的网上书店电子商务应用框架的研究和设计\n",
      "cosine_sim: 0.7355358004570007\n",
      "\n",
      "text_a: 企业管理管理信息系统多层结构框架平台\n",
      "text_b: 基于数字地球平台的中国世界遗产展示平台的设计与实现\n",
      "cosine_sim: 0.6972821950912476\n",
      "\n",
      "text_a: 企业管理管理信息系统多层结构框架平台\n",
      "text_b: 面向组件技术的综合决策支持系统及其商业应用\n",
      "cosine_sim: 0.7883411049842834\n",
      "\n",
      "text_a: 企业管理管理信息系统多层结构框架平台\n",
      "text_b: 在信息管理系统（MIS）平台上进行医学科研项目管理的应用研究\n",
      "cosine_sim: 0.8089635372161865\n",
      "\n",
      "text_a: 企业管理管理信息系统多层结构框架平台\n",
      "text_b: 基于云服务的智能家居系统的研究与设计\n",
      "cosine_sim: 0.7311938405036926\n",
      "\n",
      "text_a: 企业管理管理信息系统多层结构框架平台\n",
      "text_b: 基于PPP模式的W市政道路工程风险管理研究\n",
      "cosine_sim: 0.7702903747558594\n",
      "\n",
      "text_a: 企业管理管理信息系统多层结构框架平台\n",
      "text_b: 基于TD专网移动互联系统及应用的设计与实现\n",
      "cosine_sim: 0.7473601698875427\n",
      "\n",
      "text_a: 纳米CT成像三维图像处理固体氧化物燃料电池多孔材料最优阈值算法边缘检测算法\n",
      "text_b: 纳米CT三维图像处理分析方法及其应用的研究\n",
      "cosine_sim: 0.8314833045005798\n",
      "\n",
      "text_a: 纳米CT成像三维图像处理固体氧化物燃料电池多孔材料最优阈值算法边缘检测算法\n",
      "text_b: 基于线性CCD自适应成像的光刻机平台调平方法研究\n",
      "cosine_sim: 0.8396030068397522\n",
      "\n",
      "text_a: 纳米CT成像三维图像处理固体氧化物燃料电池多孔材料最优阈值算法边缘检测算法\n",
      "text_b: 固体中缺陷的超声散射计算与测量技术研究\n",
      "cosine_sim: 0.8269580602645874\n",
      "\n",
      "text_a: 纳米CT成像三维图像处理固体氧化物燃料电池多孔材料最优阈值算法边缘检测算法\n",
      "text_b: 基于多特征融合和图割模型的遥感影像云检测算法研究\n",
      "cosine_sim: 0.7696787714958191\n",
      "\n",
      "text_a: 纳米CT成像三维图像处理固体氧化物燃料电池多孔材料最优阈值算法边缘检测算法\n",
      "text_b: 基于卷积神经网络的图像复杂度研究与应用\n",
      "cosine_sim: 0.748698890209198\n",
      "\n",
      "text_a: 纳米CT成像三维图像处理固体氧化物燃料电池多孔材料最优阈值算法边缘检测算法\n",
      "text_b: 微纳米结构非线性静动力学分析及其应用\n",
      "cosine_sim: 0.7801375985145569\n",
      "\n",
      "text_a: 纳米CT成像三维图像处理固体氧化物燃料电池多孔材料最优阈值算法边缘检测算法\n",
      "text_b: 基于碳纳米管的流体器件设计\n",
      "cosine_sim: 0.818599283695221\n",
      "\n",
      "text_a: 纳米CT成像三维图像处理固体氧化物燃料电池多孔材料最优阈值算法边缘检测算法\n",
      "text_b: 基于局部特征的多光谱与全色图像融合算法研究\n",
      "cosine_sim: 0.7797985076904297\n",
      "\n",
      "text_a: 纳米CT成像三维图像处理固体氧化物燃料电池多孔材料最优阈值算法边缘检测算法\n",
      "text_b: 基于嵌入式系统的人脸识别算法研究及其优化\n",
      "cosine_sim: 0.7526457905769348\n",
      "\n",
      "text_a: 纳米CT成像三维图像处理固体氧化物燃料电池多孔材料最优阈值算法边缘检测算法\n",
      "text_b: 基于TCAD的VDMOS功率器件仿真研究\n",
      "cosine_sim: 0.7894400358200073\n",
      "\n",
      "text_a: 化学实验教学高师学生问题意识教学策略\n",
      "text_b: 在化学实验教学中培养高师学生的问题意识\n",
      "cosine_sim: 0.9190068244934082\n",
      "\n",
      "text_a: 化学实验教学高师学生问题意识教学策略\n",
      "text_b: 职校计算机专业课有效教学的实践研究\n",
      "cosine_sim: 0.8426189422607422\n",
      "\n",
      "text_a: 化学实验教学高师学生问题意识教学策略\n",
      "text_b: 新课程理念下的高中数学分层教学的实践与研究\n",
      "cosine_sim: 0.8262923955917358\n",
      "\n",
      "text_a: 化学实验教学高师学生问题意识教学策略\n",
      "text_b: 信息技术课对提高中学生科学素养的准实验研究\n",
      "cosine_sim: 0.7913605570793152\n",
      "\n",
      "text_a: 化学实验教学高师学生问题意识教学策略\n",
      "text_b: 形象思维理论指导高中物理教学实践的研究\n",
      "cosine_sim: 0.8403250575065613\n",
      "\n",
      "text_a: 化学实验教学高师学生问题意识教学策略\n",
      "text_b: 关于初中生数学归纳能力培养的理论与实践研究\n",
      "cosine_sim: 0.7748866081237793\n",
      "\n",
      "text_a: 化学实验教学高师学生问题意识教学策略\n",
      "text_b: 分层教学在生物教学中的初步探索\n",
      "cosine_sim: 0.7796562910079956\n",
      "\n",
      "text_a: 化学实验教学高师学生问题意识教学策略\n",
      "text_b: 课堂教学资源分配的社会学分析--以乌鲁木齐市民、汉学生同班的班级为例\n",
      "cosine_sim: 0.79216068983078\n",
      "\n",
      "text_a: 化学实验教学高师学生问题意识教学策略\n",
      "text_b: 班级管理对学习动力影响的研究--中小学班级管理中班委会轮值制的效果分析研究\n",
      "cosine_sim: 0.785575807094574\n",
      "\n",
      "text_a: 化学实验教学高师学生问题意识教学策略\n",
      "text_b: 目标设置在高三物理教学中应用的研究\n",
      "cosine_sim: 0.7827994227409363\n",
      "\n",
      "text_a: 互联网企业互动问答社区产品盈利模式经营策略商业价值\n",
      "text_b: 互联网互动问答社区产品盈利模式选择研究\n",
      "cosine_sim: 0.9324548244476318\n",
      "\n",
      "text_a: 互联网企业互动问答社区产品盈利模式经营策略商业价值\n",
      "text_b: 移动互联网时代下网易新闻客户端竞争战略研究\n",
      "cosine_sim: 0.7449646592140198\n",
      "\n",
      "text_a: 互联网企业互动问答社区产品盈利模式经营策略商业价值\n",
      "text_b: 浦发银行信用卡产品的营销策略研究\n",
      "cosine_sim: 0.7753878831863403\n",
      "\n",
      "text_a: 互联网企业互动问答社区产品盈利模式经营策略商业价值\n",
      "text_b: 当前我国电视娱乐节目品牌经营的策略研究\n",
      "cosine_sim: 0.7995046973228455\n",
      "\n",
      "text_a: 互联网企业互动问答社区产品盈利模式经营策略商业价值\n",
      "text_b: 服务企业竞争力决定因素与提升策略研究\n",
      "cosine_sim: 0.7527864575386047\n",
      "\n",
      "text_a: 互联网企业互动问答社区产品盈利模式经营策略商业价值\n",
      "text_b: 基于创新的中国广告产业演化研究\n",
      "cosine_sim: 0.7417410612106323\n",
      "\n",
      "text_a: 互联网企业互动问答社区产品盈利模式经营策略商业价值\n",
      "text_b: 高管性别结构、内部制衡与企业技术创新——基于我国创业板上市企业的实证研究\n",
      "cosine_sim: 0.7742011547088623\n",
      "\n",
      "text_a: 互联网企业互动问答社区产品盈利模式经营策略商业价值\n",
      "text_b: 环境扫描对企业竞争优势的影响研究--以电子信息行业为例\n",
      "cosine_sim: 0.7396090626716614\n",
      "\n",
      "text_a: 互联网企业互动问答社区产品盈利模式经营策略商业价值\n",
      "text_b: 高管团队特征对公司绩效的影响——以我国新三板教育行业公司为例\n",
      "cosine_sim: 0.7733154892921448\n",
      "\n",
      "text_a: 互联网企业互动问答社区产品盈利模式经营策略商业价值\n",
      "text_b: 国有润滑油企业市场开发策略研究\n",
      "cosine_sim: 0.7893280982971191\n",
      "\n"
     ]
    }
   ],
   "source": [
    "for text_a, text_b_list in text_pairs.items():\n",
    "    text_a_ids = paddle.to_tensor([tokenizer.text_to_ids(text_a)])\n",
    "\n",
    "    for text_b in text_b_list:\n",
    "        text_b_ids = paddle.to_tensor([tokenizer.text_to_ids(text_b)])\n",
    "        print(\"text_a: {}\".format(text_a))\n",
    "        print(\"text_b: {}\".format(text_b))\n",
    "        print(\"cosine_sim: {}\".format(model.get_cos_sim(text_a_ids, text_b_ids).numpy()[0]))\n",
    "        print()"
   ]
  },
  {
   "cell_type": "markdown",
   "metadata": {
    "collapsed": false
   },
   "source": [
    "### 使用VisualDL查看句子向量"
   ]
  },
  {
   "cell_type": "code",
   "execution_count": 59,
   "metadata": {
    "collapsed": false
   },
   "outputs": [
    {
     "name": "stdout",
     "output_type": "stream",
     "text": [
      "互联网企业互动问答社区产品盈利模式经营策略商业价值\n",
      "['多项式矩阵左共轭积对偶Sylvester共轭和数学算子完备参数解']\n",
      "['多项式矩阵左共轭积对偶Sylvester共轭和数学算子完备参数解', '多项式矩阵的左共轭积及其应用', '退化阻尼对高维可压缩欧拉方程组经典解的影响', 'Burgers方程基于特征正交分解方法的数值解法研究', '有界对称域上解析函数空间的若干性质', '基于卷积神经网络的图像复杂度研究与应用', 'Cartesian发射机中线性功率放大器的研究', 'CFRP加固WF型梁侧扭屈曲的几何非线性有限元分析', '基于线性CCD自适应成像的光刻机平台调平方法研究', '基于变分贝叶斯理论的图像复原方法研究', '网格资源分配中混合并行蚁群算法方式研究', '停车信息系统路径诱导最佳路径车位占有率城市交通智能交通']\n",
      "['多项式矩阵左共轭积对偶Sylvester共轭和数学算子完备参数解', '多项式矩阵的左共轭积及其应用', '退化阻尼对高维可压缩欧拉方程组经典解的影响', 'Burgers方程基于特征正交分解方法的数值解法研究', '有界对称域上解析函数空间的若干性质', '基于卷积神经网络的图像复杂度研究与应用', 'Cartesian发射机中线性功率放大器的研究', 'CFRP加固WF型梁侧扭屈曲的几何非线性有限元分析', '基于线性CCD自适应成像的光刻机平台调平方法研究', '基于变分贝叶斯理论的图像复原方法研究', '网格资源分配中混合并行蚁群算法方式研究', '停车信息系统路径诱导最佳路径车位占有率城市交通智能交通', '中心式停车信息系统若干问题的研究', '视觉导航区域交通智能车辆（CyberCar）系统研究', '需求侧参与输电阻塞管理的模型与算法研究', '基于云服务的智能家居系统的研究与设计', '环境水质在线监测系统智能主节点的研究与设计', '配电网故障自动处理算法的研究及软件开发', '基于GeoMedia的高速公路监控系统的研究与开发', '基于Java的模块化环境空气质量自动监测系统的研究与设计', '边检预检预录系统建设及关键技术研究', '基于多技术的路面积水监测预警系统的设计与实现', '服务企业企业竞争力决定因素提升策略']\n",
      "['多项式矩阵左共轭积对偶Sylvester共轭和数学算子完备参数解', '多项式矩阵的左共轭积及其应用', '退化阻尼对高维可压缩欧拉方程组经典解的影响', 'Burgers方程基于特征正交分解方法的数值解法研究', '有界对称域上解析函数空间的若干性质', '基于卷积神经网络的图像复杂度研究与应用', 'Cartesian发射机中线性功率放大器的研究', 'CFRP加固WF型梁侧扭屈曲的几何非线性有限元分析', '基于线性CCD自适应成像的光刻机平台调平方法研究', '基于变分贝叶斯理论的图像复原方法研究', '网格资源分配中混合并行蚁群算法方式研究', '停车信息系统路径诱导最佳路径车位占有率城市交通智能交通', '中心式停车信息系统若干问题的研究', '视觉导航区域交通智能车辆（CyberCar）系统研究', '需求侧参与输电阻塞管理的模型与算法研究', '基于云服务的智能家居系统的研究与设计', '环境水质在线监测系统智能主节点的研究与设计', '配电网故障自动处理算法的研究及软件开发', '基于GeoMedia的高速公路监控系统的研究与开发', '基于Java的模块化环境空气质量自动监测系统的研究与设计', '边检预检预录系统建设及关键技术研究', '基于多技术的路面积水监测预警系统的设计与实现', '服务企业企业竞争力决定因素提升策略', '服务企业竞争力决定因素与提升策略研究', '提升我国分析仪器产业竞争力的技术创新战略研究', '国有润滑油企业市场开发策略研究', '基于成功要素的企业ERP实施事前评估研究', '环境扫描对企业竞争优势的影响研究--以电子信息行业为例', '浦发银行信用卡产品的营销策略研究', '我国出口企业的竞争战略研究', 'BMP公司供应商绩效指标体系的改进与实施', 'P公司企业管理人员选拔任用体系研究', '高管性别结构、内部制衡与企业技术创新——基于我国创业板上市企业的实证研究', '数字水印混沌映射版权保护序列密码小波变换']\n",
      "['多项式矩阵左共轭积对偶Sylvester共轭和数学算子完备参数解', '多项式矩阵的左共轭积及其应用', '退化阻尼对高维可压缩欧拉方程组经典解的影响', 'Burgers方程基于特征正交分解方法的数值解法研究', '有界对称域上解析函数空间的若干性质', '基于卷积神经网络的图像复杂度研究与应用', 'Cartesian发射机中线性功率放大器的研究', 'CFRP加固WF型梁侧扭屈曲的几何非线性有限元分析', '基于线性CCD自适应成像的光刻机平台调平方法研究', '基于变分贝叶斯理论的图像复原方法研究', '网格资源分配中混合并行蚁群算法方式研究', '停车信息系统路径诱导最佳路径车位占有率城市交通智能交通', '中心式停车信息系统若干问题的研究', '视觉导航区域交通智能车辆（CyberCar）系统研究', '需求侧参与输电阻塞管理的模型与算法研究', '基于云服务的智能家居系统的研究与设计', '环境水质在线监测系统智能主节点的研究与设计', '配电网故障自动处理算法的研究及软件开发', '基于GeoMedia的高速公路监控系统的研究与开发', '基于Java的模块化环境空气质量自动监测系统的研究与设计', '边检预检预录系统建设及关键技术研究', '基于多技术的路面积水监测预警系统的设计与实现', '服务企业企业竞争力决定因素提升策略', '服务企业竞争力决定因素与提升策略研究', '提升我国分析仪器产业竞争力的技术创新战略研究', '国有润滑油企业市场开发策略研究', '基于成功要素的企业ERP实施事前评估研究', '环境扫描对企业竞争优势的影响研究--以电子信息行业为例', '浦发银行信用卡产品的营销策略研究', '我国出口企业的竞争战略研究', 'BMP公司供应商绩效指标体系的改进与实施', 'P公司企业管理人员选拔任用体系研究', '高管性别结构、内部制衡与企业技术创新——基于我国创业板上市企业的实证研究', '数字水印混沌映射版权保护序列密码小波变换', '基于混沌映射的数字水印技术研究', '基于卷积神经网络的图像复杂度研究与应用', '基于图像内容的关键帧检测及VLSI实现', '基于局部特征的多光谱与全色图像融合算法研究', '基于嵌入式系统的人脸识别算法研究及其优化', '基于多特征融合和图割模型的遥感影像云检测算法研究', '基于动态符号执行的模糊测试方法研究', '基于交通流增长特性的复杂网络演化建模研究', '基于变分贝叶斯理论的图像复原方法研究', '混沌控制和构造延迟混沌系统及应用的研究', '有限元分析汽车车架焊缝危险部位寿命预测结构强度']\n",
      "['多项式矩阵左共轭积对偶Sylvester共轭和数学算子完备参数解', '多项式矩阵的左共轭积及其应用', '退化阻尼对高维可压缩欧拉方程组经典解的影响', 'Burgers方程基于特征正交分解方法的数值解法研究', '有界对称域上解析函数空间的若干性质', '基于卷积神经网络的图像复杂度研究与应用', 'Cartesian发射机中线性功率放大器的研究', 'CFRP加固WF型梁侧扭屈曲的几何非线性有限元分析', '基于线性CCD自适应成像的光刻机平台调平方法研究', '基于变分贝叶斯理论的图像复原方法研究', '网格资源分配中混合并行蚁群算法方式研究', '停车信息系统路径诱导最佳路径车位占有率城市交通智能交通', '中心式停车信息系统若干问题的研究', '视觉导航区域交通智能车辆（CyberCar）系统研究', '需求侧参与输电阻塞管理的模型与算法研究', '基于云服务的智能家居系统的研究与设计', '环境水质在线监测系统智能主节点的研究与设计', '配电网故障自动处理算法的研究及软件开发', '基于GeoMedia的高速公路监控系统的研究与开发', '基于Java的模块化环境空气质量自动监测系统的研究与设计', '边检预检预录系统建设及关键技术研究', '基于多技术的路面积水监测预警系统的设计与实现', '服务企业企业竞争力决定因素提升策略', '服务企业竞争力决定因素与提升策略研究', '提升我国分析仪器产业竞争力的技术创新战略研究', '国有润滑油企业市场开发策略研究', '基于成功要素的企业ERP实施事前评估研究', '环境扫描对企业竞争优势的影响研究--以电子信息行业为例', '浦发银行信用卡产品的营销策略研究', '我国出口企业的竞争战略研究', 'BMP公司供应商绩效指标体系的改进与实施', 'P公司企业管理人员选拔任用体系研究', '高管性别结构、内部制衡与企业技术创新——基于我国创业板上市企业的实证研究', '数字水印混沌映射版权保护序列密码小波变换', '基于混沌映射的数字水印技术研究', '基于卷积神经网络的图像复杂度研究与应用', '基于图像内容的关键帧检测及VLSI实现', '基于局部特征的多光谱与全色图像融合算法研究', '基于嵌入式系统的人脸识别算法研究及其优化', '基于多特征融合和图割模型的遥感影像云检测算法研究', '基于动态符号执行的模糊测试方法研究', '基于交通流增长特性的复杂网络演化建模研究', '基于变分贝叶斯理论的图像复原方法研究', '混沌控制和构造延迟混沌系统及应用的研究', '有限元分析汽车车架焊缝危险部位寿命预测结构强度', '汽车车架焊接结构强度和可靠性分析', '基于天线传感器的FRP-钢结构典型损伤监测方法研究', '有限元强度折减法对抗滑桩加固边坡的优化分析研究', '弹性地基上周期梁板的隔振性能研究', 'SIGMA冷弯薄壁型钢构件畸变屈曲的理论研究', '梁拱组合刚构桥极限承载力分析与研究', 'CFRP加固WF型梁侧扭屈曲的几何非线性有限元分析', '典型缺陷真型电容式玻璃钢套管电气特征参量测试实验研究', '基于ABB机器人的结构光视觉引导焊缝跟踪技术的研究', '紊流风场中大跨度桥梁非线性气动稳定性研究', '石墨烯导电聚合物复合材料超级电容器']\n",
      "['多项式矩阵左共轭积对偶Sylvester共轭和数学算子完备参数解', '多项式矩阵的左共轭积及其应用', '退化阻尼对高维可压缩欧拉方程组经典解的影响', 'Burgers方程基于特征正交分解方法的数值解法研究', '有界对称域上解析函数空间的若干性质', '基于卷积神经网络的图像复杂度研究与应用', 'Cartesian发射机中线性功率放大器的研究', 'CFRP加固WF型梁侧扭屈曲的几何非线性有限元分析', '基于线性CCD自适应成像的光刻机平台调平方法研究', '基于变分贝叶斯理论的图像复原方法研究', '网格资源分配中混合并行蚁群算法方式研究', '停车信息系统路径诱导最佳路径车位占有率城市交通智能交通', '中心式停车信息系统若干问题的研究', '视觉导航区域交通智能车辆（CyberCar）系统研究', '需求侧参与输电阻塞管理的模型与算法研究', '基于云服务的智能家居系统的研究与设计', '环境水质在线监测系统智能主节点的研究与设计', '配电网故障自动处理算法的研究及软件开发', '基于GeoMedia的高速公路监控系统的研究与开发', '基于Java的模块化环境空气质量自动监测系统的研究与设计', '边检预检预录系统建设及关键技术研究', '基于多技术的路面积水监测预警系统的设计与实现', '服务企业企业竞争力决定因素提升策略', '服务企业竞争力决定因素与提升策略研究', '提升我国分析仪器产业竞争力的技术创新战略研究', '国有润滑油企业市场开发策略研究', '基于成功要素的企业ERP实施事前评估研究', '环境扫描对企业竞争优势的影响研究--以电子信息行业为例', '浦发银行信用卡产品的营销策略研究', '我国出口企业的竞争战略研究', 'BMP公司供应商绩效指标体系的改进与实施', 'P公司企业管理人员选拔任用体系研究', '高管性别结构、内部制衡与企业技术创新——基于我国创业板上市企业的实证研究', '数字水印混沌映射版权保护序列密码小波变换', '基于混沌映射的数字水印技术研究', '基于卷积神经网络的图像复杂度研究与应用', '基于图像内容的关键帧检测及VLSI实现', '基于局部特征的多光谱与全色图像融合算法研究', '基于嵌入式系统的人脸识别算法研究及其优化', '基于多特征融合和图割模型的遥感影像云检测算法研究', '基于动态符号执行的模糊测试方法研究', '基于交通流增长特性的复杂网络演化建模研究', '基于变分贝叶斯理论的图像复原方法研究', '混沌控制和构造延迟混沌系统及应用的研究', '有限元分析汽车车架焊缝危险部位寿命预测结构强度', '汽车车架焊接结构强度和可靠性分析', '基于天线传感器的FRP-钢结构典型损伤监测方法研究', '有限元强度折减法对抗滑桩加固边坡的优化分析研究', '弹性地基上周期梁板的隔振性能研究', 'SIGMA冷弯薄壁型钢构件畸变屈曲的理论研究', '梁拱组合刚构桥极限承载力分析与研究', 'CFRP加固WF型梁侧扭屈曲的几何非线性有限元分析', '典型缺陷真型电容式玻璃钢套管电气特征参量测试实验研究', '基于ABB机器人的结构光视觉引导焊缝跟踪技术的研究', '紊流风场中大跨度桥梁非线性气动稳定性研究', '石墨烯导电聚合物复合材料超级电容器', '石墨烯与导电聚合物复合材料的制备以及在超级电容器方面的应用', '碳纤维布增强聚酰亚胺基复合材料的制备及其力学和摩擦学性能研究', '石墨烯/硅橡胶复合材料的制备及压阻特性研究', '功能化碳纳米管在染料敏化太阳能电池对电极中的应用', '高介电常数铝阳极复合氧化膜制备技术的研究', '导电生物可降解聚酯/CNT纤维在神经再生中的研究', '二维MXene/镍基复合材料制备及其电化学性能研究', 'g--C3N4基复合材料的制备及其光催化性能研究', '无溶剂厚膜型环氧涂料的制备及其防腐性能的研究', '并五苯分子的手性自组装和单层薄膜的结构相变', '企业管理管理信息系统多层结构框架平台']\n",
      "['多项式矩阵左共轭积对偶Sylvester共轭和数学算子完备参数解', '多项式矩阵的左共轭积及其应用', '退化阻尼对高维可压缩欧拉方程组经典解的影响', 'Burgers方程基于特征正交分解方法的数值解法研究', '有界对称域上解析函数空间的若干性质', '基于卷积神经网络的图像复杂度研究与应用', 'Cartesian发射机中线性功率放大器的研究', 'CFRP加固WF型梁侧扭屈曲的几何非线性有限元分析', '基于线性CCD自适应成像的光刻机平台调平方法研究', '基于变分贝叶斯理论的图像复原方法研究', '网格资源分配中混合并行蚁群算法方式研究', '停车信息系统路径诱导最佳路径车位占有率城市交通智能交通', '中心式停车信息系统若干问题的研究', '视觉导航区域交通智能车辆（CyberCar）系统研究', '需求侧参与输电阻塞管理的模型与算法研究', '基于云服务的智能家居系统的研究与设计', '环境水质在线监测系统智能主节点的研究与设计', '配电网故障自动处理算法的研究及软件开发', '基于GeoMedia的高速公路监控系统的研究与开发', '基于Java的模块化环境空气质量自动监测系统的研究与设计', '边检预检预录系统建设及关键技术研究', '基于多技术的路面积水监测预警系统的设计与实现', '服务企业企业竞争力决定因素提升策略', '服务企业竞争力决定因素与提升策略研究', '提升我国分析仪器产业竞争力的技术创新战略研究', '国有润滑油企业市场开发策略研究', '基于成功要素的企业ERP实施事前评估研究', '环境扫描对企业竞争优势的影响研究--以电子信息行业为例', '浦发银行信用卡产品的营销策略研究', '我国出口企业的竞争战略研究', 'BMP公司供应商绩效指标体系的改进与实施', 'P公司企业管理人员选拔任用体系研究', '高管性别结构、内部制衡与企业技术创新——基于我国创业板上市企业的实证研究', '数字水印混沌映射版权保护序列密码小波变换', '基于混沌映射的数字水印技术研究', '基于卷积神经网络的图像复杂度研究与应用', '基于图像内容的关键帧检测及VLSI实现', '基于局部特征的多光谱与全色图像融合算法研究', '基于嵌入式系统的人脸识别算法研究及其优化', '基于多特征融合和图割模型的遥感影像云检测算法研究', '基于动态符号执行的模糊测试方法研究', '基于交通流增长特性的复杂网络演化建模研究', '基于变分贝叶斯理论的图像复原方法研究', '混沌控制和构造延迟混沌系统及应用的研究', '有限元分析汽车车架焊缝危险部位寿命预测结构强度', '汽车车架焊接结构强度和可靠性分析', '基于天线传感器的FRP-钢结构典型损伤监测方法研究', '有限元强度折减法对抗滑桩加固边坡的优化分析研究', '弹性地基上周期梁板的隔振性能研究', 'SIGMA冷弯薄壁型钢构件畸变屈曲的理论研究', '梁拱组合刚构桥极限承载力分析与研究', 'CFRP加固WF型梁侧扭屈曲的几何非线性有限元分析', '典型缺陷真型电容式玻璃钢套管电气特征参量测试实验研究', '基于ABB机器人的结构光视觉引导焊缝跟踪技术的研究', '紊流风场中大跨度桥梁非线性气动稳定性研究', '石墨烯导电聚合物复合材料超级电容器', '石墨烯与导电聚合物复合材料的制备以及在超级电容器方面的应用', '碳纤维布增强聚酰亚胺基复合材料的制备及其力学和摩擦学性能研究', '石墨烯/硅橡胶复合材料的制备及压阻特性研究', '功能化碳纳米管在染料敏化太阳能电池对电极中的应用', '高介电常数铝阳极复合氧化膜制备技术的研究', '导电生物可降解聚酯/CNT纤维在神经再生中的研究', '二维MXene/镍基复合材料制备及其电化学性能研究', 'g--C3N4基复合材料的制备及其光催化性能研究', '无溶剂厚膜型环氧涂料的制备及其防腐性能的研究', '并五苯分子的手性自组装和单层薄膜的结构相变', '企业管理管理信息系统多层结构框架平台', '基于多层结构的业务框架平台', '基于BPR的管理信息系统开发与应用', '基于BIM的MEP管线综合知识库构建与可视化研究', '基于J2EE的网上书店电子商务应用框架的研究和设计', '基于数字地球平台的中国世界遗产展示平台的设计与实现', '面向组件技术的综合决策支持系统及其商业应用', '在信息管理系统（MIS）平台上进行医学科研项目管理的应用研究', '基于云服务的智能家居系统的研究与设计', '基于PPP模式的W市政道路工程风险管理研究', '基于TD专网移动互联系统及应用的设计与实现', '纳米CT成像三维图像处理固体氧化物燃料电池多孔材料最优阈值算法边缘检测算法']\n",
      "['多项式矩阵左共轭积对偶Sylvester共轭和数学算子完备参数解', '多项式矩阵的左共轭积及其应用', '退化阻尼对高维可压缩欧拉方程组经典解的影响', 'Burgers方程基于特征正交分解方法的数值解法研究', '有界对称域上解析函数空间的若干性质', '基于卷积神经网络的图像复杂度研究与应用', 'Cartesian发射机中线性功率放大器的研究', 'CFRP加固WF型梁侧扭屈曲的几何非线性有限元分析', '基于线性CCD自适应成像的光刻机平台调平方法研究', '基于变分贝叶斯理论的图像复原方法研究', '网格资源分配中混合并行蚁群算法方式研究', '停车信息系统路径诱导最佳路径车位占有率城市交通智能交通', '中心式停车信息系统若干问题的研究', '视觉导航区域交通智能车辆（CyberCar）系统研究', '需求侧参与输电阻塞管理的模型与算法研究', '基于云服务的智能家居系统的研究与设计', '环境水质在线监测系统智能主节点的研究与设计', '配电网故障自动处理算法的研究及软件开发', '基于GeoMedia的高速公路监控系统的研究与开发', '基于Java的模块化环境空气质量自动监测系统的研究与设计', '边检预检预录系统建设及关键技术研究', '基于多技术的路面积水监测预警系统的设计与实现', '服务企业企业竞争力决定因素提升策略', '服务企业竞争力决定因素与提升策略研究', '提升我国分析仪器产业竞争力的技术创新战略研究', '国有润滑油企业市场开发策略研究', '基于成功要素的企业ERP实施事前评估研究', '环境扫描对企业竞争优势的影响研究--以电子信息行业为例', '浦发银行信用卡产品的营销策略研究', '我国出口企业的竞争战略研究', 'BMP公司供应商绩效指标体系的改进与实施', 'P公司企业管理人员选拔任用体系研究', '高管性别结构、内部制衡与企业技术创新——基于我国创业板上市企业的实证研究', '数字水印混沌映射版权保护序列密码小波变换', '基于混沌映射的数字水印技术研究', '基于卷积神经网络的图像复杂度研究与应用', '基于图像内容的关键帧检测及VLSI实现', '基于局部特征的多光谱与全色图像融合算法研究', '基于嵌入式系统的人脸识别算法研究及其优化', '基于多特征融合和图割模型的遥感影像云检测算法研究', '基于动态符号执行的模糊测试方法研究', '基于交通流增长特性的复杂网络演化建模研究', '基于变分贝叶斯理论的图像复原方法研究', '混沌控制和构造延迟混沌系统及应用的研究', '有限元分析汽车车架焊缝危险部位寿命预测结构强度', '汽车车架焊接结构强度和可靠性分析', '基于天线传感器的FRP-钢结构典型损伤监测方法研究', '有限元强度折减法对抗滑桩加固边坡的优化分析研究', '弹性地基上周期梁板的隔振性能研究', 'SIGMA冷弯薄壁型钢构件畸变屈曲的理论研究', '梁拱组合刚构桥极限承载力分析与研究', 'CFRP加固WF型梁侧扭屈曲的几何非线性有限元分析', '典型缺陷真型电容式玻璃钢套管电气特征参量测试实验研究', '基于ABB机器人的结构光视觉引导焊缝跟踪技术的研究', '紊流风场中大跨度桥梁非线性气动稳定性研究', '石墨烯导电聚合物复合材料超级电容器', '石墨烯与导电聚合物复合材料的制备以及在超级电容器方面的应用', '碳纤维布增强聚酰亚胺基复合材料的制备及其力学和摩擦学性能研究', '石墨烯/硅橡胶复合材料的制备及压阻特性研究', '功能化碳纳米管在染料敏化太阳能电池对电极中的应用', '高介电常数铝阳极复合氧化膜制备技术的研究', '导电生物可降解聚酯/CNT纤维在神经再生中的研究', '二维MXene/镍基复合材料制备及其电化学性能研究', 'g--C3N4基复合材料的制备及其光催化性能研究', '无溶剂厚膜型环氧涂料的制备及其防腐性能的研究', '并五苯分子的手性自组装和单层薄膜的结构相变', '企业管理管理信息系统多层结构框架平台', '基于多层结构的业务框架平台', '基于BPR的管理信息系统开发与应用', '基于BIM的MEP管线综合知识库构建与可视化研究', '基于J2EE的网上书店电子商务应用框架的研究和设计', '基于数字地球平台的中国世界遗产展示平台的设计与实现', '面向组件技术的综合决策支持系统及其商业应用', '在信息管理系统（MIS）平台上进行医学科研项目管理的应用研究', '基于云服务的智能家居系统的研究与设计', '基于PPP模式的W市政道路工程风险管理研究', '基于TD专网移动互联系统及应用的设计与实现', '纳米CT成像三维图像处理固体氧化物燃料电池多孔材料最优阈值算法边缘检测算法', '纳米CT三维图像处理分析方法及其应用的研究', '基于线性CCD自适应成像的光刻机平台调平方法研究', '固体中缺陷的超声散射计算与测量技术研究', '基于多特征融合和图割模型的遥感影像云检测算法研究', '基于卷积神经网络的图像复杂度研究与应用', '微纳米结构非线性静动力学分析及其应用', '基于碳纳米管的流体器件设计', '基于局部特征的多光谱与全色图像融合算法研究', '基于嵌入式系统的人脸识别算法研究及其优化', '基于TCAD的VDMOS功率器件仿真研究', '化学实验教学高师学生问题意识教学策略']\n",
      "['多项式矩阵左共轭积对偶Sylvester共轭和数学算子完备参数解', '多项式矩阵的左共轭积及其应用', '退化阻尼对高维可压缩欧拉方程组经典解的影响', 'Burgers方程基于特征正交分解方法的数值解法研究', '有界对称域上解析函数空间的若干性质', '基于卷积神经网络的图像复杂度研究与应用', 'Cartesian发射机中线性功率放大器的研究', 'CFRP加固WF型梁侧扭屈曲的几何非线性有限元分析', '基于线性CCD自适应成像的光刻机平台调平方法研究', '基于变分贝叶斯理论的图像复原方法研究', '网格资源分配中混合并行蚁群算法方式研究', '停车信息系统路径诱导最佳路径车位占有率城市交通智能交通', '中心式停车信息系统若干问题的研究', '视觉导航区域交通智能车辆（CyberCar）系统研究', '需求侧参与输电阻塞管理的模型与算法研究', '基于云服务的智能家居系统的研究与设计', '环境水质在线监测系统智能主节点的研究与设计', '配电网故障自动处理算法的研究及软件开发', '基于GeoMedia的高速公路监控系统的研究与开发', '基于Java的模块化环境空气质量自动监测系统的研究与设计', '边检预检预录系统建设及关键技术研究', '基于多技术的路面积水监测预警系统的设计与实现', '服务企业企业竞争力决定因素提升策略', '服务企业竞争力决定因素与提升策略研究', '提升我国分析仪器产业竞争力的技术创新战略研究', '国有润滑油企业市场开发策略研究', '基于成功要素的企业ERP实施事前评估研究', '环境扫描对企业竞争优势的影响研究--以电子信息行业为例', '浦发银行信用卡产品的营销策略研究', '我国出口企业的竞争战略研究', 'BMP公司供应商绩效指标体系的改进与实施', 'P公司企业管理人员选拔任用体系研究', '高管性别结构、内部制衡与企业技术创新——基于我国创业板上市企业的实证研究', '数字水印混沌映射版权保护序列密码小波变换', '基于混沌映射的数字水印技术研究', '基于卷积神经网络的图像复杂度研究与应用', '基于图像内容的关键帧检测及VLSI实现', '基于局部特征的多光谱与全色图像融合算法研究', '基于嵌入式系统的人脸识别算法研究及其优化', '基于多特征融合和图割模型的遥感影像云检测算法研究', '基于动态符号执行的模糊测试方法研究', '基于交通流增长特性的复杂网络演化建模研究', '基于变分贝叶斯理论的图像复原方法研究', '混沌控制和构造延迟混沌系统及应用的研究', '有限元分析汽车车架焊缝危险部位寿命预测结构强度', '汽车车架焊接结构强度和可靠性分析', '基于天线传感器的FRP-钢结构典型损伤监测方法研究', '有限元强度折减法对抗滑桩加固边坡的优化分析研究', '弹性地基上周期梁板的隔振性能研究', 'SIGMA冷弯薄壁型钢构件畸变屈曲的理论研究', '梁拱组合刚构桥极限承载力分析与研究', 'CFRP加固WF型梁侧扭屈曲的几何非线性有限元分析', '典型缺陷真型电容式玻璃钢套管电气特征参量测试实验研究', '基于ABB机器人的结构光视觉引导焊缝跟踪技术的研究', '紊流风场中大跨度桥梁非线性气动稳定性研究', '石墨烯导电聚合物复合材料超级电容器', '石墨烯与导电聚合物复合材料的制备以及在超级电容器方面的应用', '碳纤维布增强聚酰亚胺基复合材料的制备及其力学和摩擦学性能研究', '石墨烯/硅橡胶复合材料的制备及压阻特性研究', '功能化碳纳米管在染料敏化太阳能电池对电极中的应用', '高介电常数铝阳极复合氧化膜制备技术的研究', '导电生物可降解聚酯/CNT纤维在神经再生中的研究', '二维MXene/镍基复合材料制备及其电化学性能研究', 'g--C3N4基复合材料的制备及其光催化性能研究', '无溶剂厚膜型环氧涂料的制备及其防腐性能的研究', '并五苯分子的手性自组装和单层薄膜的结构相变', '企业管理管理信息系统多层结构框架平台', '基于多层结构的业务框架平台', '基于BPR的管理信息系统开发与应用', '基于BIM的MEP管线综合知识库构建与可视化研究', '基于J2EE的网上书店电子商务应用框架的研究和设计', '基于数字地球平台的中国世界遗产展示平台的设计与实现', '面向组件技术的综合决策支持系统及其商业应用', '在信息管理系统（MIS）平台上进行医学科研项目管理的应用研究', '基于云服务的智能家居系统的研究与设计', '基于PPP模式的W市政道路工程风险管理研究', '基于TD专网移动互联系统及应用的设计与实现', '纳米CT成像三维图像处理固体氧化物燃料电池多孔材料最优阈值算法边缘检测算法', '纳米CT三维图像处理分析方法及其应用的研究', '基于线性CCD自适应成像的光刻机平台调平方法研究', '固体中缺陷的超声散射计算与测量技术研究', '基于多特征融合和图割模型的遥感影像云检测算法研究', '基于卷积神经网络的图像复杂度研究与应用', '微纳米结构非线性静动力学分析及其应用', '基于碳纳米管的流体器件设计', '基于局部特征的多光谱与全色图像融合算法研究', '基于嵌入式系统的人脸识别算法研究及其优化', '基于TCAD的VDMOS功率器件仿真研究', '化学实验教学高师学生问题意识教学策略', '在化学实验教学中培养高师学生的问题意识', '职校计算机专业课有效教学的实践研究', '新课程理念下的高中数学分层教学的实践与研究', '信息技术课对提高中学生科学素养的准实验研究', '形象思维理论指导高中物理教学实践的研究', '关于初中生数学归纳能力培养的理论与实践研究', '分层教学在生物教学中的初步探索', '课堂教学资源分配的社会学分析--以乌鲁木齐市民、汉学生同班的班级为例', '班级管理对学习动力影响的研究--中小学班级管理中班委会轮值制的效果分析研究', '目标设置在高三物理教学中应用的研究', '互联网企业互动问答社区产品盈利模式经营策略商业价值']\n"
     ]
    }
   ],
   "source": [
    "\n",
    "# 引入VisualDL的LogWriter记录日志\n",
    "import numpy as np\n",
    "from visualdl import LogWriter    \n",
    "# 获取句子以及其对应的向量\n",
    "label_list = []\n",
    "embedding_list = []\n",
    "print(text_a)\n",
    "for text_a, text_b_list in text_pairs.items():\n",
    "    text_a_ids = paddle.to_tensor([tokenizer.text_to_ids(text_a)])\n",
    "    embedding_list.append(model(text_a_ids).flatten().numpy())\n",
    "    label_list.append(text_a)\n",
    "\n",
    "    for text_b in text_b_list:\n",
    "        text_b_ids = paddle.to_tensor([tokenizer.text_to_ids(text_b)])\n",
    "        embedding_list.append(model(text_b_ids).flatten().numpy())\n",
    "        label_list.append(text_b)\n",
    "\n",
    "\n",
    "with LogWriter(logdir='./sentence_hidi') as writer:\n",
    "    writer.add_embeddings(tag='test', mat=embedding_list, metadata=label_list)"
   ]
  },
  {
   "cell_type": "markdown",
   "metadata": {
    "collapsed": false
   },
   "source": [
    "![](https://ai-studio-static-online.cdn.bcebos.com/11d9098af8804a3d907128efe657a3b6c5c30f7f111a460b90e0ec6f007b84d0)\n"
   ]
  },
  {
   "cell_type": "markdown",
   "metadata": {
    "collapsed": false
   },
   "source": [
    "### 启动VisualDL观察句子向量降维效果\n",
    "\n",
    "步骤如上述观察词向量降维效果一模一样。\n",
    "![](https://ai-studio-static-online.cdn.bcebos.com/0e876f3cf1724e90a317ad3f4be233a9eb0313b0e92f475b95675c2ad52d3eb0)\n",
    "\n",
    "\n",
    "可以看出，语义相近的句子在句子向量空间中聚集(如有关课堂的句子、有关化学描述句子等)。"
   ]
  },
  {
   "cell_type": "markdown",
   "metadata": {
    "collapsed": false
   },
   "source": [
    "# PaddleNLP更多预训练词向量\n",
    "PaddleNLP提供61种可直接加载的预训练词向量，训练自多领域中英文语料、如百度百科、新闻语料、微博等，覆盖多种经典词向量模型（word2vec、glove、fastText）、涵盖不同维度、不同语料库大小，详见[PaddleNLP Embedding API](https://github.com/PaddlePaddle/PaddleNLP/blob/develop/docs/model_zoo/embeddings.md)。"
   ]
  },
  {
   "cell_type": "markdown",
   "metadata": {
    "collapsed": false
   },
   "source": [
    "# 预训练词向量辅助分类任务\n",
    "\n",
    "想学习词向量更多应用，来试试预训练词向量对分类模型的改善效果吧，[这里](https://aistudio.baidu.com/aistudio/projectdetail/1283423) 试试把`paddle.nn.Embedding`换成刚刚学到的预训练词向量吧。"
   ]
  },
  {
   "cell_type": "markdown",
   "metadata": {
    "collapsed": false
   },
   "source": [
    "# 加入课程交流群，一起学习吧\n",
    "\n",
    "现在就加入课程群，一起交流NLP技术吧！\n",
    "\n",
    "<img src=\"https://ai-studio-static-online.cdn.bcebos.com/d953727af0c24a7c806ab529495f0904f22f809961be420b8c88cdf59b837394\" width=\"200\" height=\"250\" >\n",
    "\n",
    "\n",
    "\n",
    "**[直播链接请戳这里，每晚20:00-21:30👈](http://live.bilibili.com/21689802)**\n",
    "\n",
    "**[还没有报名课程？赶紧戳这里，课程、作业安排统统在课程区哦👉🏻](https://aistudio.baidu.com/aistudio/course/introduce/24177)**"
   ]
  }
 ],
 "metadata": {
  "kernelspec": {
   "display_name": "PaddlePaddle 2.1.0 (Python 3.5)",
   "language": "python",
   "name": "py35-paddle1.2.0"
  },
  "language_info": {
   "codemirror_mode": {
    "name": "ipython",
    "version": 3
   },
   "file_extension": ".py",
   "mimetype": "text/x-python",
   "name": "python",
   "nbconvert_exporter": "python",
   "pygments_lexer": "ipython3",
   "version": "3.7.4"
  }
 },
 "nbformat": 4,
 "nbformat_minor": 1
}
